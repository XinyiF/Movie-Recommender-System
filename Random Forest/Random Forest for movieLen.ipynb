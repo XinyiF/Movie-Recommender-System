{
 "cells": [
  {
   "cell_type": "markdown",
   "metadata": {},
   "source": [
    "## 整理数据，清理部分无用数据比如‘zip’,'timestamp'..."
   ]
  },
  {
   "cell_type": "code",
   "execution_count": 1,
   "metadata": {},
   "outputs": [],
   "source": [
    "import pandas as pd\n",
    "import numpy as np\n",
    "#用户信息\n",
    "\n",
    "unames = ['user_id', 'gender', 'age' , 'occupation' , 'zip']\n",
    "users = pd.read_table('users.dat',sep= '::', header = None, names = unames,engine = 'python')\n",
    "users=users.drop(columns=['zip'])\n",
    "#评分\n",
    "rnames = ['user_id', 'movie_id', 'rating','timestamp']\n",
    "ratings = pd.read_table('ratings.dat',sep= '::', header = None, names = rnames,engine = 'python')\n",
    "ratings=ratings.drop(columns=['timestamp'])\n",
    "#电影信息\n",
    "mnames = ['movie_id', 'title' , 'genres']\n",
    "movies =  pd.read_table('movies.dat',sep= '::', header = None, names = mnames,engine = 'python')\n",
    "\n",
    "data=pd.merge(users,ratings,on='user_id')\n",
    "data=pd.merge(data,movies,on='movie_id')\n",
    "data=data.sort_values(by=['user_id'],na_position='first')\n",
    "\n",
    "# 去掉电影title信息用id表示\n",
    "title=set(data['title'])\n",
    "data=data.drop(columns=['title'])"
   ]
  },
  {
   "cell_type": "code",
   "execution_count": 2,
   "metadata": {},
   "outputs": [
    {
     "name": "stdout",
     "output_type": "stream",
     "text": [
      "       user_id gender  age  occupation  movie_id  rating  \\\n",
      "0            1      F    1          10      1193       5   \n",
      "28501        1      F    1          10        48       5   \n",
      "13819        1      F    1          10       938       4   \n",
      "51327        1      F    1          10      1207       4   \n",
      "31152        1      F    1          10      1721       4   \n",
      "\n",
      "                                     genres  \n",
      "0                                     Drama  \n",
      "28501  Animation|Children's|Musical|Romance  \n",
      "13819                               Musical  \n",
      "51327                                 Drama  \n",
      "31152                         Drama|Romance  \n"
     ]
    }
   ],
   "source": [
    "#检查数据的输出\n",
    "# print(users[:5])\n",
    "# print(ratings[:5])\n",
    "# print(movies[:5])\n",
    "print(data[:5])"
   ]
  },
  {
   "cell_type": "markdown",
   "metadata": {},
   "source": [
    "## 处理每部电影的流派信息，生成one-hot编码"
   ]
  },
  {
   "cell_type": "code",
   "execution_count": 3,
   "metadata": {},
   "outputs": [],
   "source": [
    "genre=['Action','Adventure','Animation','Children\\'s','Comedy','Crime','Documentary','Drama','Fantasy','Film-Noir','Horror','Musical','Mystery','Romance','Sci-Fi','Thriller','War','Western']\n",
    "def oneHotgenre(genre,genreList):\n",
    "    res=np.zeros(len(genre))\n",
    "    for gen in genreList:\n",
    "        res[genre.index(gen)]=1\n",
    "    return res\n",
    "\n",
    "movie_genre={}\n",
    "for sample in np.array(data):\n",
    "    genreList=sample[6].split('|')\n",
    "    if not sample[4] in movie_genre:\n",
    "        movie_genre[sample[4]]=oneHotgenre(genre,genreList)"
   ]
  },
  {
   "cell_type": "markdown",
   "metadata": {},
   "source": [
    "## 用户特征向量：['gender','age','occupation']"
   ]
  },
  {
   "cell_type": "code",
   "execution_count": 4,
   "metadata": {},
   "outputs": [],
   "source": [
    "def userInfo(data):\n",
    "    userInfo={}\n",
    "    for sample in data:\n",
    "        if sample[0] not in userInfo:\n",
    "            userInfo[sample[0]]=[sample[1],sample[2],sample[3]]\n",
    "    return userInfo\n",
    "user_info=userInfo(np.array(data))"
   ]
  },
  {
   "cell_type": "markdown",
   "metadata": {},
   "source": [
    "## 生成正样本"
   ]
  },
  {
   "cell_type": "code",
   "execution_count": 5,
   "metadata": {},
   "outputs": [
    {
     "data": {
      "text/plain": [
       "array([['M', 25, 2, 0.0, 0.0, 0.0, 0.0, 0.0, 1.0, 0.0, 1.0, 0.0, 0.0,\n",
       "        0.0, 0.0, 0.0, 0.0, 0.0, 0.0, 0.0, 0.0, 1.0],\n",
       "       ['F', 18, 0, 0.0, 0.0, 0.0, 0.0, 0.0, 0.0, 0.0, 1.0, 0.0, 0.0,\n",
       "        0.0, 0.0, 0.0, 0.0, 0.0, 0.0, 0.0, 0.0, 1.0],\n",
       "       ['M', 35, 16, 0.0, 0.0, 0.0, 0.0, 0.0, 0.0, 0.0, 1.0, 0.0, 0.0,\n",
       "        0.0, 0.0, 0.0, 0.0, 0.0, 1.0, 0.0, 0.0, 1.0],\n",
       "       ['M', 45, 7, 0.0, 0.0, 0.0, 0.0, 1.0, 0.0, 0.0, 0.0, 0.0, 0.0,\n",
       "        0.0, 0.0, 0.0, 1.0, 0.0, 0.0, 0.0, 0.0, 1.0],\n",
       "       ['M', 25, 7, 0.0, 0.0, 0.0, 0.0, 0.0, 1.0, 0.0, 1.0, 0.0, 0.0,\n",
       "        0.0, 0.0, 0.0, 0.0, 1.0, 0.0, 0.0, 0.0, 1.0]], dtype=object)"
      ]
     },
     "execution_count": 5,
     "metadata": {},
     "output_type": "execute_result"
    }
   ],
   "source": [
    "posiSample=np.array(data[['gender','age','occupation','movie_id']])\n",
    "posiS=[]\n",
    "for sample in posiSample:\n",
    "    oneHot=np.array(movie_genre[sample[3]])\n",
    "    posiS.append(np.append(sample[:3],oneHot))\n",
    "posiSample=np.append(posiS,np.ones((len(posiSample),1)),axis=1)\n",
    "np.random.shuffle(posiSample)\n",
    "posiSample[:5]"
   ]
  },
  {
   "cell_type": "markdown",
   "metadata": {},
   "source": [
    "## 生成负样本\n",
    "### record: 用户和有行为的电影的dict"
   ]
  },
  {
   "cell_type": "code",
   "execution_count": 6,
   "metadata": {
    "scrolled": false
   },
   "outputs": [],
   "source": [
    "record={}\n",
    "for sample in np.array(data):\n",
    "    if not sample[0] in record:\n",
    "        record[sample[0]]=[sample[4]]\n",
    "    else:\n",
    "        record[sample[0]].append(sample[4])"
   ]
  },
  {
   "cell_type": "markdown",
   "metadata": {},
   "source": [
    "### 为每位用户采集n个负样本，流行度高的电影抽取几率大"
   ]
  },
  {
   "cell_type": "code",
   "execution_count": 7,
   "metadata": {
    "scrolled": false
   },
   "outputs": [],
   "source": [
    "from random import choice\n",
    "movie_pool=np.array(data['movie_id'])\n",
    "def nSample(record,movie_pool,n):\n",
    "    res={}\n",
    "    for user in record:\n",
    "        res[user]=[]\n",
    "        while len(res[user])<n:\n",
    "            mov=choice(movie_pool)\n",
    "            if mov not in record[user]:\n",
    "                res[user].append(mov)\n",
    "    return res\n",
    "\n",
    "userNomov=nSample(record,movie_pool,50)"
   ]
  },
  {
   "cell_type": "code",
   "execution_count": 8,
   "metadata": {},
   "outputs": [
    {
     "data": {
      "text/plain": [
       "array([['F', 1, 10, 1.0, 0.0, 0.0, 0.0, 0.0, 0.0, 0.0, 0.0, 0.0, 0.0,\n",
       "        0.0, 0.0, 0.0, 0.0, 0.0, 1.0, 0.0, 0.0, -1.0],\n",
       "       ['F', 1, 10, 0.0, 0.0, 0.0, 1.0, 0.0, 0.0, 0.0, 0.0, 0.0, 0.0,\n",
       "        0.0, 0.0, 0.0, 0.0, 1.0, 0.0, 0.0, 0.0, -1.0],\n",
       "       ['F', 1, 10, 1.0, 1.0, 0.0, 0.0, 0.0, 0.0, 0.0, 0.0, 0.0, 0.0,\n",
       "        0.0, 0.0, 0.0, 0.0, 0.0, 0.0, 0.0, 0.0, -1.0],\n",
       "       ['F', 1, 10, 0.0, 0.0, 0.0, 0.0, 1.0, 0.0, 0.0, 1.0, 0.0, 0.0,\n",
       "        0.0, 0.0, 0.0, 0.0, 0.0, 0.0, 0.0, 0.0, -1.0],\n",
       "       ['F', 1, 10, 1.0, 0.0, 0.0, 0.0, 0.0, 0.0, 0.0, 1.0, 0.0, 0.0,\n",
       "        0.0, 0.0, 0.0, 0.0, 0.0, 0.0, 0.0, 0.0, -1.0]], dtype=object)"
      ]
     },
     "execution_count": 8,
     "metadata": {},
     "output_type": "execute_result"
    }
   ],
   "source": [
    "negaSample=[]\n",
    "for user in userNomov:\n",
    "    for mov in userNomov[user]:\n",
    "        negaSample.append(np.append(np.array(user_info[user],dtype=object),np.array(movie_genre[mov])))\n",
    "negaSample=np.append(negaSample,-1*np.ones((len(negaSample),1)),axis=1)\n",
    "\n",
    "negaSample[:5]"
   ]
  },
  {
   "cell_type": "markdown",
   "metadata": {},
   "source": [
    "## 正负样本合并"
   ]
  },
  {
   "cell_type": "code",
   "execution_count": 9,
   "metadata": {},
   "outputs": [
    {
     "data": {
      "text/plain": [
       "array([['M', 56, 3, 1.0, 1.0, 0.0, 0.0, 0.0, 0.0, 0.0, 0.0, 0.0, 0.0,\n",
       "        0.0, 0.0, 1.0, 0.0, 0.0, 0.0, 0.0, 0.0, -1.0],\n",
       "       ['F', 25, 7, 1.0, 0.0, 0.0, 0.0, 0.0, 0.0, 0.0, 0.0, 0.0, 0.0,\n",
       "        0.0, 0.0, 0.0, 0.0, 0.0, 0.0, 0.0, 0.0, 1.0],\n",
       "       ['M', 25, 6, 0.0, 0.0, 1.0, 1.0, 0.0, 0.0, 0.0, 0.0, 0.0, 0.0,\n",
       "        0.0, 0.0, 0.0, 0.0, 0.0, 0.0, 0.0, 0.0, -1.0],\n",
       "       ['F', 25, 20, 0.0, 0.0, 0.0, 0.0, 1.0, 0.0, 0.0, 0.0, 0.0, 0.0,\n",
       "        0.0, 0.0, 0.0, 0.0, 0.0, 0.0, 0.0, 0.0, 1.0],\n",
       "       ['M', 18, 7, 0.0, 0.0, 0.0, 0.0, 0.0, 0.0, 0.0, 0.0, 0.0, 0.0,\n",
       "        1.0, 0.0, 0.0, 0.0, 0.0, 0.0, 0.0, 0.0, 1.0]], dtype=object)"
      ]
     },
     "execution_count": 9,
     "metadata": {},
     "output_type": "execute_result"
    }
   ],
   "source": [
    "# 使正负样平衡\n",
    "np.random.shuffle(posiSample)\n",
    "posiSample=posiSample[:6000*50]\n",
    "sample=np.append(np.array(posiSample),np.array(negaSample),axis=0)\n",
    "np.random.shuffle(sample)\n",
    "sample[:5]"
   ]
  },
  {
   "cell_type": "markdown",
   "metadata": {},
   "source": [
    "## 划分数据集"
   ]
  },
  {
   "cell_type": "code",
   "execution_count": 10,
   "metadata": {},
   "outputs": [
    {
     "data": {
      "text/plain": [
       "602000"
      ]
     },
     "execution_count": 10,
     "metadata": {},
     "output_type": "execute_result"
    }
   ],
   "source": [
    "train,test=sample[:600000],sample[600000:]\n",
    "len(sample)"
   ]
  },
  {
   "cell_type": "markdown",
   "metadata": {},
   "source": [
    "## 将训练集放入dict，key=label"
   ]
  },
  {
   "cell_type": "code",
   "execution_count": 11,
   "metadata": {},
   "outputs": [],
   "source": [
    "train_data={}\n",
    "for sample in train:\n",
    "    if not sample[-1] in train_data:\n",
    "        train_data[sample[-1]]=[sample]\n",
    "    else:\n",
    "        train_data[sample[-1]].append(sample)\n",
    "test_data={}\n",
    "for sample in test:\n",
    "    if not sample[-1] in test_data:\n",
    "        test_data[sample[-1]]=[sample]\n",
    "    else:\n",
    "        test_data[sample[-1]].append(sample)"
   ]
  },
  {
   "cell_type": "code",
   "execution_count": 12,
   "metadata": {},
   "outputs": [],
   "source": [
    "def Ent(data):\n",
    "    \"\"\"\n",
    "    \n",
    "    :param data: dict\n",
    "    :return: 信息熵\n",
    "    \"\"\"\n",
    "    num=sum(len(data[i]) for i in data)\n",
    "    res=0\n",
    "    for i in data:\n",
    "        pi=len(data[i])/num\n",
    "        res+=pi*np.log(pi)\n",
    "    return -res"
   ]
  },
  {
   "cell_type": "markdown",
   "metadata": {},
   "source": [
    "## 初始训练集的信息熵"
   ]
  },
  {
   "cell_type": "code",
   "execution_count": 13,
   "metadata": {},
   "outputs": [
    {
     "data": {
      "text/plain": [
       "0.6931418341004171"
      ]
     },
     "execution_count": 13,
     "metadata": {},
     "output_type": "execute_result"
    }
   ],
   "source": [
    "E0=Ent(train_data)\n",
    "E0"
   ]
  },
  {
   "cell_type": "markdown",
   "metadata": {},
   "source": [
    "## 根据某feature分割数据集"
   ]
  },
  {
   "cell_type": "code",
   "execution_count": 14,
   "metadata": {},
   "outputs": [],
   "source": [
    "def split_dataframe(data, col):\n",
    "    \"\"\"\n",
    "    根据第col列属性分割后的数据集\n",
    "    :param data: dict\n",
    "    :param col:\n",
    "    :return: dict\n",
    "    \"\"\"\n",
    "    res={}\n",
    "    for types in data:\n",
    "        for sample in data[types]:\n",
    "            if not sample[col] in res:\n",
    "                res[sample[col]]={}\n",
    "                res[sample[col]][sample[-1]]=[sample]\n",
    "            else:\n",
    "                if not sample[-1] in res[sample[col]]:\n",
    "                    res[sample[col]][sample[-1]]=[sample]\n",
    "                else:\n",
    "                    res[sample[col]][sample[-1]].append(sample)\n",
    "    return res"
   ]
  },
  {
   "cell_type": "markdown",
   "metadata": {},
   "source": [
    "## 分割前后的信息增益"
   ]
  },
  {
   "cell_type": "code",
   "execution_count": 15,
   "metadata": {},
   "outputs": [],
   "source": [
    "def Gain(Class,subClass):\n",
    "    \"\"\"\n",
    "    根据某属性分支后的信息增益\n",
    "    :param Class: dict of lables \n",
    "    :param subClass: dict with multi-2d arrays\n",
    "    :return:\n",
    "    \"\"\"\n",
    "    e=Ent(Class)\n",
    "    num=sum(len(Class[i]) for i in Class)\n",
    "    temp=0\n",
    "    for node in subClass:\n",
    "        cur_data=subClass[node]\n",
    "        e_sub=Ent(cur_data)\n",
    "        num_node=sum(len(cur_data[i]) for i in cur_data)\n",
    "        temp+=(num_node/num)*e_sub\n",
    "    return e-temp"
   ]
  },
  {
   "cell_type": "markdown",
   "metadata": {},
   "source": [
    "### e.g. 依据gender分割数据集的信息增益"
   ]
  },
  {
   "cell_type": "code",
   "execution_count": 16,
   "metadata": {
    "scrolled": true
   },
   "outputs": [
    {
     "data": {
      "text/plain": [
       "0.0008141354367738884"
      ]
     },
     "execution_count": 16,
     "metadata": {},
     "output_type": "execute_result"
    }
   ],
   "source": [
    "split_gender=split_dataframe(train_data,0)\n",
    "Gain_gender=Gain(train_data,split_gender)\n",
    "Gain_gender"
   ]
  },
  {
   "cell_type": "code",
   "execution_count": 17,
   "metadata": {},
   "outputs": [],
   "source": [
    "def choose_best_col(data, label):\n",
    "    \"\"\"\n",
    "\n",
    "    :param data: dict with key: labels\n",
    "    :param label: label list\n",
    "    :return: the col of best feature and maxGain\n",
    "    \"\"\"\n",
    "    best_feature, maxGain = -1, -1\n",
    "    # 遍历每个feature col\n",
    "    for feature in range(len(data[label[0]][0]) - 1):\n",
    "        split_feature = split_dataframe(data, feature)\n",
    "        Gain_feature = Gain(data, split_feature)\n",
    "        if Gain_feature > maxGain:\n",
    "            best_feature = feature\n",
    "            maxGain = Gain_feature\n",
    "\n",
    "    return best_feature, maxGain"
   ]
  },
  {
   "cell_type": "code",
   "execution_count": 18,
   "metadata": {},
   "outputs": [
    {
     "name": "stdout",
     "output_type": "stream",
     "text": [
      "best feature is: 1\n"
     ]
    },
    {
     "data": {
      "text/plain": [
       "0.00283851839001914"
      ]
     },
     "execution_count": 18,
     "metadata": {},
     "output_type": "execute_result"
    }
   ],
   "source": [
    "label=[1,-1]\n",
    "best_feature,maxGain=choose_best_col(train_data,label)\n",
    "print('best feature is:',best_feature)\n",
    "maxGain"
   ]
  },
  {
   "cell_type": "code",
   "execution_count": 19,
   "metadata": {},
   "outputs": [],
   "source": [
    "class ID3Tree:\n",
    "\n",
    "    def majorityVote(self,data):\n",
    "        maxLabel,maxCount=-1,-1\n",
    "        for i in data:\n",
    "            if len(data[i])>maxCount:\n",
    "                maxLabel=i\n",
    "                maxCount=len(data[i])\n",
    "        return maxLabel\n",
    "\n",
    "\n",
    "    def buildTree(self,data,label,depth):\n",
    "        # 如果当前组只有一种label，返回当前label\n",
    "        if len(data)==1 or depth>3:\n",
    "            return self.majorityVote(data)\n",
    "        best_feature,maxGain=choose_best_col(data,label)\n",
    "        split_data=split_dataframe(data,best_feature)\n",
    "        Tree = {best_feature:{}}\n",
    "        for sub in split_data:\n",
    "            Tree[best_feature][sub]=self.buildTree(split_data[sub],label,depth+1)\n",
    "        return Tree"
   ]
  },
  {
   "cell_type": "markdown",
   "metadata": {},
   "source": [
    "## 生成随机森林"
   ]
  },
  {
   "cell_type": "code",
   "execution_count": 20,
   "metadata": {},
   "outputs": [],
   "source": [
    "# 20个基树，每个2000个sample\n",
    "def randomForest(train,label,n,size):\n",
    "    os=ID3Tree()\n",
    "    tree=[]\n",
    "    for i in range(n):\n",
    "        np.random.shuffle(train)\n",
    "        train_data={}\n",
    "        for sample in train[:size]:\n",
    "            if not sample[-1] in train_data:\n",
    "                train_data[sample[-1]]=[sample]\n",
    "            else:\n",
    "                train_data[sample[-1]].append(sample)\n",
    "    \n",
    "        Tree=os.buildTree(train_data,label,0)\n",
    "        tree.append(Tree)\n",
    "    return tree"
   ]
  },
  {
   "cell_type": "markdown",
   "metadata": {},
   "source": [
    "## 20个基树，每棵树2000个随机样本"
   ]
  },
  {
   "cell_type": "code",
   "execution_count": 21,
   "metadata": {},
   "outputs": [],
   "source": [
    "tree=randomForest(train,label,20,2000)"
   ]
  },
  {
   "cell_type": "markdown",
   "metadata": {},
   "source": [
    "## 预测用户是否会点击"
   ]
  },
  {
   "cell_type": "code",
   "execution_count": null,
   "metadata": {},
   "outputs": [],
   "source": [
    "import random\n",
    "def predict(Tree,data_test,label):\n",
    "    res=[]\n",
    "    for sample in data_test:\n",
    "        temp=Tree\n",
    "        while True:\n",
    "            feature=list(temp.keys())\n",
    "            feature=feature[0]\n",
    "            temp=temp[feature]\n",
    "            if sample[feature] in temp:\n",
    "                pred=temp[sample[feature]]\n",
    "            else:\n",
    "                # 如果预测sample某feature在树里缺失，则随机选一个分支\n",
    "                keys=list(temp.keys())\n",
    "                pred=temp[random.choice(keys)]\n",
    "            if pred in label:\n",
    "                res.append(pred)\n",
    "                break\n",
    "            else:\n",
    "                temp=pred\n",
    "    return res"
   ]
  },
  {
   "cell_type": "markdown",
   "metadata": {},
   "source": [
    "## 随机选取一批用户测试CTR"
   ]
  },
  {
   "cell_type": "code",
   "execution_count": 59,
   "metadata": {},
   "outputs": [
    {
     "name": "stdout",
     "output_type": "stream",
     "text": [
      "第 1272 名用户的ctr= 36.0 %\n"
     ]
    }
   ],
   "source": [
    "# record: user:watced moives\n",
    "# movie_pool\n",
    "# movie_genre: movie_id:one-hot\n",
    "# user_info: user_id:info\n",
    "user=list(record.keys())\n",
    "def recommend(userid,movie_pool,topN,tree):\n",
    "    res={}\n",
    "    for t in tree:\n",
    "        while len(res)<topN*5:\n",
    "            mov=choice(movie_pool)\n",
    "            vec=[np.append(np.array(user_info[userid],dtype=object),movie_genre[mov])]\n",
    "            pred=predict(t,vec,label)\n",
    "            if pred[0]==1:\n",
    "                if not mov in res:\n",
    "                    res[mov]=1\n",
    "                else:\n",
    "                    res[mov]+=1\n",
    "        # 按value 排序\n",
    "        res=sorted(res.items(),key=lambda item:item[1])\n",
    "        recommendList=[]\n",
    "        for i in range(topN):\n",
    "            temp=res.pop()\n",
    "            recommendList.append(temp[0])\n",
    "        return recommendList\n",
    "userId=list(user_info.keys())\n",
    "\n",
    "ID=choice(userId)\n",
    "recommend_mov=recommend(ID,movie_pool,50,tree)\n",
    "count=0\n",
    "for mov in recommend_mov:\n",
    "    if mov in record[ID]:\n",
    "        count+=1\n",
    "print('第',ID,'名用户的ctr=',100*count/50,'%')\n",
    "  "
   ]
  },
  {
   "cell_type": "code",
   "execution_count": null,
   "metadata": {},
   "outputs": [],
   "source": []
  },
  {
   "cell_type": "code",
   "execution_count": null,
   "metadata": {},
   "outputs": [],
   "source": []
  }
 ],
 "metadata": {
  "kernelspec": {
   "display_name": "Python 3",
   "language": "python",
   "name": "python3"
  },
  "language_info": {
   "codemirror_mode": {
    "name": "ipython",
    "version": 3
   },
   "file_extension": ".py",
   "mimetype": "text/x-python",
   "name": "python",
   "nbconvert_exporter": "python",
   "pygments_lexer": "ipython3",
   "version": "3.8.3"
  }
 },
 "nbformat": 4,
 "nbformat_minor": 4
}
