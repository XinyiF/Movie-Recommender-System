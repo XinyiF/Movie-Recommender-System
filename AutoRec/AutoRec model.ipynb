{
 "cells": [
  {
   "attachments": {
    "image.png": {
     "image/png": "[encoded data removed]"
    }
   },
   "cell_type": "markdown",
   "metadata": {},
   "source": [
    "# AutoRec模型\n",
    "\n",
    "![image.png](attachment:image.png)\n",
    "\n",
    "### 简单的三层神经网络，输入物品i的m维向量，经过隐藏层后输出新的m维向量\n",
    "\n",
    "### 通过训练更新参数矩阵 V 和 W 使得输入输出尽可能的相同\n",
    "\n",
    "### 损失函数：平方误差加正则\n",
    "![image.png](attachment:image.png)"
   ]
  },
  {
   "cell_type": "code",
   "execution_count": 28,
   "metadata": {},
   "outputs": [],
   "source": [
    "import sys\n",
    "sys.path.append('/Users/user/miniconda3/lib/python3.8/site-packages')"
   ]
  },
  {
   "cell_type": "markdown",
   "metadata": {},
   "source": [
    "## 处理数据，生成共现矩阵"
   ]
  },
  {
   "cell_type": "code",
   "execution_count": 1,
   "metadata": {},
   "outputs": [],
   "source": [
    "import pandas as pd\n",
    "import numpy as np"
   ]
  },
  {
   "cell_type": "code",
   "execution_count": 2,
   "metadata": {},
   "outputs": [
    {
     "data": {
      "text/html": [
       "<div>\n",
       "<style scoped>\n",
       "    .dataframe tbody tr th:only-of-type {\n",
       "        vertical-align: middle;\n",
       "    }\n",
       "\n",
       "    .dataframe tbody tr th {\n",
       "        vertical-align: top;\n",
       "    }\n",
       "\n",
       "    .dataframe thead th {\n",
       "        text-align: right;\n",
       "    }\n",
       "</style>\n",
       "<table border=\"1\" class=\"dataframe\">\n",
       "  <thead>\n",
       "    <tr style=\"text-align: right;\">\n",
       "      <th></th>\n",
       "      <th>user_id</th>\n",
       "      <th>movie_id</th>\n",
       "      <th>rating</th>\n",
       "      <th>timestamp</th>\n",
       "    </tr>\n",
       "  </thead>\n",
       "  <tbody>\n",
       "    <tr>\n",
       "      <th>0</th>\n",
       "      <td>1</td>\n",
       "      <td>1193</td>\n",
       "      <td>5</td>\n",
       "      <td>978300760</td>\n",
       "    </tr>\n",
       "    <tr>\n",
       "      <th>1</th>\n",
       "      <td>1</td>\n",
       "      <td>661</td>\n",
       "      <td>3</td>\n",
       "      <td>978302109</td>\n",
       "    </tr>\n",
       "    <tr>\n",
       "      <th>2</th>\n",
       "      <td>1</td>\n",
       "      <td>914</td>\n",
       "      <td>3</td>\n",
       "      <td>978301968</td>\n",
       "    </tr>\n",
       "    <tr>\n",
       "      <th>3</th>\n",
       "      <td>1</td>\n",
       "      <td>3408</td>\n",
       "      <td>4</td>\n",
       "      <td>978300275</td>\n",
       "    </tr>\n",
       "    <tr>\n",
       "      <th>4</th>\n",
       "      <td>1</td>\n",
       "      <td>2355</td>\n",
       "      <td>5</td>\n",
       "      <td>978824291</td>\n",
       "    </tr>\n",
       "  </tbody>\n",
       "</table>\n",
       "</div>"
      ],
      "text/plain": [
       "   user_id  movie_id  rating  timestamp\n",
       "0        1      1193       5  978300760\n",
       "1        1       661       3  978302109\n",
       "2        1       914       3  978301968\n",
       "3        1      3408       4  978300275\n",
       "4        1      2355       5  978824291"
      ]
     },
     "execution_count": 2,
     "metadata": {},
     "output_type": "execute_result"
    }
   ],
   "source": [
    "rnames = ['user_id', 'movie_id', 'rating','timestamp']\n",
    "ratings = pd.read_table('ratings.dat',sep= '::', header = None, names = rnames,engine = 'python')\n",
    "ratings[:5]"
   ]
  },
  {
   "cell_type": "code",
   "execution_count": 5,
   "metadata": {},
   "outputs": [
    {
     "name": "stdout",
     "output_type": "stream",
     "text": [
      "num of user:  6040\n",
      "num of movie:  3952\n"
     ]
    }
   ],
   "source": [
    "print('num of user: ',max(ratings['user_id']))\n",
    "print('num of movie: ',max(ratings['movie_id']))"
   ]
  },
  {
   "cell_type": "code",
   "execution_count": 152,
   "metadata": {},
   "outputs": [],
   "source": [
    "def getData(ratings,train_ratio):\n",
    "    split_num=int(max(ratings['movie_id'])*train_ratio)\n",
    "    # 索引对应id\n",
    "    data=np.zeros((max(ratings['movie_id'])+1,max(ratings['user_id'])+1))\n",
    "    for user,mov,rate in zip(ratings['user_id'],ratings['movie_id'],ratings['rating']):\n",
    "        data[mov][user]=rate\n",
    "    return data[:split_num,:],data[split_num:,:]"
   ]
  },
  {
   "cell_type": "code",
   "execution_count": 164,
   "metadata": {},
   "outputs": [],
   "source": [
    "import torch\n",
    "import torch.nn as nn\n",
    "import numpy as np\n",
    "from torch.autograd import variable\n",
    "import math\n",
    "import time\n",
    "import argparse\n",
    "import torch.utils.data as Data\n",
    "import torch.optim as optim\n",
    "from torch.autograd import Variable"
   ]
  },
  {
   "cell_type": "code",
   "execution_count": 194,
   "metadata": {},
   "outputs": [
    {
     "name": "stdout",
     "output_type": "stream",
     "text": [
      "3556\n",
      "6041\n"
     ]
    }
   ],
   "source": [
    "train_data,test_data=getData(ratings,0.9)\n",
    "print(len(train_data))\n",
    "print(len(train_data[0]))"
   ]
  },
  {
   "cell_type": "markdown",
   "metadata": {},
   "source": [
    "## 网络模型"
   ]
  },
  {
   "cell_type": "code",
   "execution_count": 166,
   "metadata": {},
   "outputs": [],
   "source": [
    "class Autorec(nn.Module):\n",
    "    def __init__(self,n_feature, n_hidden, n_output):\n",
    "        super(Autorec, self).__init__()\n",
    "        \n",
    "        # X=Sigmoid(R*V)\n",
    "        self.encoder = nn.Sequential(\n",
    "            nn.Linear(n_feature, n_hidden),\n",
    "            nn.Sigmoid()\n",
    "        )\n",
    "        # X*W输出out\n",
    "        self.decoder = nn.Sequential(\n",
    "            nn.Linear(n_hidden, n_output),\n",
    "        )\n",
    "    \n",
    "    def forword(self,inp):\n",
    "        inp=self.encoder(inp)\n",
    "        out=self.decoder(inp)\n",
    "        return out\n",
    "    \n",
    "class Autorec(nn.Module):\n",
    "    def __init__(self, n_feature, n_hidden, n_output): \n",
    "        super(Autorec, self).__init__()\n",
    "        # X=Sigmoid(R*V)\n",
    "        self.encoder = nn.Sequential(\n",
    "            nn.Linear(n_feature, n_hidden),\n",
    "            nn.Sigmoid()\n",
    "        )\n",
    "        # X*W输出out\n",
    "        self.decoder = nn.Sequential(\n",
    "            nn.Linear(n_hidden, n_output),\n",
    "        )\n",
    "    \n",
    "    # 将各层的神经元搭建成完整的神经网络的前向通路 \n",
    "    def forward(self, inp): \n",
    "        inp=self.encoder(inp)\n",
    "        out=self.decoder(inp)\n",
    "        return out"
   ]
  },
  {
   "cell_type": "code",
   "execution_count": 167,
   "metadata": {},
   "outputs": [
    {
     "data": {
      "text/plain": [
       "Autorec(\n",
       "  (encoder): Sequential(\n",
       "    (0): Linear(in_features=6041, out_features=500, bias=True)\n",
       "    (1): Sigmoid()\n",
       "  )\n",
       "  (decoder): Sequential(\n",
       "    (0): Linear(in_features=500, out_features=6041, bias=True)\n",
       "  )\n",
       ")"
      ]
     },
     "execution_count": 167,
     "metadata": {},
     "output_type": "execute_result"
    }
   ],
   "source": [
    "model=Autorec(6041,500,6041)\n",
    "cost = nn.MSELoss()\n",
    "n_epochs = 200\n",
    "optimizer = optim.SGD(model.parameters(), lr=0.001, momentum=0.9)\n",
    "model"
   ]
  },
  {
   "cell_type": "code",
   "execution_count": 195,
   "metadata": {},
   "outputs": [
    {
     "data": {
      "text/plain": [
       "tensor([[0., 0., 0.,  ..., 0., 0., 0.],\n",
       "        [0., 5., 0.,  ..., 0., 0., 3.],\n",
       "        [0., 0., 0.,  ..., 0., 0., 0.],\n",
       "        ...,\n",
       "        [0., 0., 0.,  ..., 0., 0., 0.],\n",
       "        [0., 0., 0.,  ..., 0., 0., 0.],\n",
       "        [0., 0., 0.,  ..., 0., 0., 0.]], requires_grad=True)"
      ]
     },
     "execution_count": 195,
     "metadata": {},
     "output_type": "execute_result"
    }
   ],
   "source": [
    "train_data=torch.from_numpy(train_data)\n",
    "train_data=train_data.float()\n",
    "train_data=Variable(train_data, requires_grad=True)\n",
    "train_data"
   ]
  },
  {
   "cell_type": "code",
   "execution_count": 196,
   "metadata": {},
   "outputs": [
    {
     "data": {
      "text/plain": [
       "tensor([[0., 0., 0.,  ..., 0., 0., 0.],\n",
       "        [0., 0., 0.,  ..., 0., 0., 0.],\n",
       "        [0., 0., 0.,  ..., 0., 0., 0.],\n",
       "        ...,\n",
       "        [0., 0., 0.,  ..., 0., 0., 0.],\n",
       "        [0., 0., 0.,  ..., 0., 0., 0.],\n",
       "        [0., 0., 0.,  ..., 0., 0., 0.]], requires_grad=True)"
      ]
     },
     "execution_count": 196,
     "metadata": {},
     "output_type": "execute_result"
    }
   ],
   "source": [
    "test_data=torch.from_numpy(test_data)\n",
    "test_data=test_data.float()\n",
    "test_data=Variable(test_data, requires_grad=True)\n",
    "test_data"
   ]
  },
  {
   "cell_type": "markdown",
   "metadata": {},
   "source": [
    "## 开始训练"
   ]
  },
  {
   "cell_type": "code",
   "execution_count": 172,
   "metadata": {},
   "outputs": [],
   "source": [
    "from tqdm import tqdm"
   ]
  },
  {
   "cell_type": "code",
   "execution_count": 174,
   "metadata": {
    "scrolled": true
   },
   "outputs": [
    {
     "name": "stderr",
     "output_type": "stream",
     "text": [
      "  0%|          | 2/3556 [00:00<05:11, 11.40it/s]"
     ]
    },
    {
     "name": "stdout",
     "output_type": "stream",
     "text": [
      "Epoch 0/200\n",
      "----------\n"
     ]
    },
    {
     "name": "stderr",
     "output_type": "stream",
     "text": [
      "100%|██████████| 3556/3556 [04:06<00:00, 14.41it/s]\n",
      "100%|██████████| 397/397 [00:00<00:00, 480.87it/s]\n",
      "  0%|          | 2/3556 [00:00<04:10, 14.17it/s]"
     ]
    },
    {
     "name": "stdout",
     "output_type": "stream",
     "text": [
      "loss is  tensor(0.8820, grad_fn=<MseLossBackward>)\n",
      "Epoch 1/200\n",
      "----------\n"
     ]
    },
    {
     "name": "stderr",
     "output_type": "stream",
     "text": [
      "100%|██████████| 3556/3556 [04:10<00:00, 14.21it/s]\n",
      "100%|██████████| 397/397 [00:00<00:00, 484.97it/s]\n",
      "  0%|          | 2/3556 [00:00<04:19, 13.70it/s]"
     ]
    },
    {
     "name": "stdout",
     "output_type": "stream",
     "text": [
      "loss is  tensor(0.8702, grad_fn=<MseLossBackward>)\n",
      "Epoch 2/200\n",
      "----------\n"
     ]
    },
    {
     "name": "stderr",
     "output_type": "stream",
     "text": [
      "100%|██████████| 3556/3556 [04:11<00:00, 14.16it/s]\n",
      "100%|██████████| 397/397 [00:00<00:00, 487.94it/s]\n",
      "  0%|          | 2/3556 [00:00<04:13, 14.04it/s]"
     ]
    },
    {
     "name": "stdout",
     "output_type": "stream",
     "text": [
      "loss is  tensor(0.8688, grad_fn=<MseLossBackward>)\n",
      "Epoch 3/200\n",
      "----------\n"
     ]
    },
    {
     "name": "stderr",
     "output_type": "stream",
     "text": [
      "100%|██████████| 3556/3556 [04:11<00:00, 14.16it/s]\n",
      "100%|██████████| 397/397 [00:00<00:00, 487.55it/s]\n",
      "  0%|          | 2/3556 [00:00<04:14, 13.94it/s]"
     ]
    },
    {
     "name": "stdout",
     "output_type": "stream",
     "text": [
      "loss is  tensor(0.8680, grad_fn=<MseLossBackward>)\n",
      "Epoch 4/200\n",
      "----------\n"
     ]
    },
    {
     "name": "stderr",
     "output_type": "stream",
     "text": [
      "100%|██████████| 3556/3556 [04:11<00:00, 14.13it/s]\n",
      "100%|██████████| 397/397 [00:00<00:00, 487.68it/s]\n",
      "  0%|          | 2/3556 [00:00<04:14, 13.98it/s]"
     ]
    },
    {
     "name": "stdout",
     "output_type": "stream",
     "text": [
      "loss is  tensor(0.8674, grad_fn=<MseLossBackward>)\n",
      "Epoch 5/200\n",
      "----------\n"
     ]
    },
    {
     "name": "stderr",
     "output_type": "stream",
     "text": [
      "100%|██████████| 3556/3556 [04:11<00:00, 14.16it/s]\n",
      "100%|██████████| 397/397 [00:00<00:00, 485.78it/s]\n",
      "  0%|          | 2/3556 [00:00<04:11, 14.13it/s]"
     ]
    },
    {
     "name": "stdout",
     "output_type": "stream",
     "text": [
      "loss is  tensor(0.8667, grad_fn=<MseLossBackward>)\n",
      "Epoch 6/200\n",
      "----------\n"
     ]
    },
    {
     "name": "stderr",
     "output_type": "stream",
     "text": [
      "100%|██████████| 3556/3556 [04:05<00:00, 14.49it/s]\n",
      "100%|██████████| 397/397 [00:00<00:00, 493.36it/s]\n",
      "  0%|          | 2/3556 [00:00<04:11, 14.16it/s]"
     ]
    },
    {
     "name": "stdout",
     "output_type": "stream",
     "text": [
      "loss is  tensor(0.8660, grad_fn=<MseLossBackward>)\n",
      "Epoch 7/200\n",
      "----------\n"
     ]
    },
    {
     "name": "stderr",
     "output_type": "stream",
     "text": [
      "100%|██████████| 3556/3556 [04:05<00:00, 14.49it/s]\n",
      "100%|██████████| 397/397 [00:00<00:00, 492.88it/s]\n",
      "  0%|          | 2/3556 [00:00<04:07, 14.35it/s]"
     ]
    },
    {
     "name": "stdout",
     "output_type": "stream",
     "text": [
      "loss is  tensor(0.8652, grad_fn=<MseLossBackward>)\n",
      "Epoch 8/200\n",
      "----------\n"
     ]
    },
    {
     "name": "stderr",
     "output_type": "stream",
     "text": [
      "100%|██████████| 3556/3556 [04:05<00:00, 14.49it/s]\n",
      "100%|██████████| 397/397 [00:00<00:00, 493.88it/s]\n",
      "  0%|          | 2/3556 [00:00<04:11, 14.13it/s]"
     ]
    },
    {
     "name": "stdout",
     "output_type": "stream",
     "text": [
      "loss is  tensor(0.8643, grad_fn=<MseLossBackward>)\n",
      "Epoch 9/200\n",
      "----------\n"
     ]
    },
    {
     "name": "stderr",
     "output_type": "stream",
     "text": [
      "100%|██████████| 3556/3556 [04:05<00:00, 14.51it/s]\n",
      "100%|██████████| 397/397 [00:00<00:00, 492.85it/s]\n",
      "  0%|          | 2/3556 [00:00<04:16, 13.87it/s]"
     ]
    },
    {
     "name": "stdout",
     "output_type": "stream",
     "text": [
      "loss is  tensor(0.8634, grad_fn=<MseLossBackward>)\n",
      "Epoch 10/200\n",
      "----------\n"
     ]
    },
    {
     "name": "stderr",
     "output_type": "stream",
     "text": [
      "100%|██████████| 3556/3556 [04:22<00:00, 13.55it/s]\n",
      "100%|██████████| 397/397 [00:00<00:00, 405.99it/s]\n",
      "  0%|          | 2/3556 [00:00<05:05, 11.65it/s]"
     ]
    },
    {
     "name": "stdout",
     "output_type": "stream",
     "text": [
      "loss is  tensor(0.8623, grad_fn=<MseLossBackward>)\n",
      "Epoch 11/200\n",
      "----------\n"
     ]
    },
    {
     "name": "stderr",
     "output_type": "stream",
     "text": [
      "100%|██████████| 3556/3556 [04:47<00:00, 12.37it/s]\n",
      "100%|██████████| 397/397 [00:00<00:00, 431.54it/s]\n",
      "  0%|          | 2/3556 [00:00<05:01, 11.80it/s]"
     ]
    },
    {
     "name": "stdout",
     "output_type": "stream",
     "text": [
      "loss is  tensor(0.8611, grad_fn=<MseLossBackward>)\n",
      "Epoch 12/200\n",
      "----------\n"
     ]
    },
    {
     "name": "stderr",
     "output_type": "stream",
     "text": [
      "100%|██████████| 3556/3556 [04:49<00:00, 12.27it/s]\n",
      "100%|██████████| 397/397 [00:01<00:00, 367.89it/s]\n",
      "  0%|          | 2/3556 [00:00<04:56, 11.99it/s]"
     ]
    },
    {
     "name": "stdout",
     "output_type": "stream",
     "text": [
      "loss is  tensor(0.8599, grad_fn=<MseLossBackward>)\n",
      "Epoch 13/200\n",
      "----------\n"
     ]
    },
    {
     "name": "stderr",
     "output_type": "stream",
     "text": [
      "100%|██████████| 3556/3556 [04:48<00:00, 12.35it/s]\n",
      "100%|██████████| 397/397 [00:00<00:00, 425.12it/s]\n",
      "  0%|          | 2/3556 [00:00<04:50, 12.22it/s]"
     ]
    },
    {
     "name": "stdout",
     "output_type": "stream",
     "text": [
      "loss is  tensor(0.8586, grad_fn=<MseLossBackward>)\n",
      "Epoch 14/200\n",
      "----------\n"
     ]
    },
    {
     "name": "stderr",
     "output_type": "stream",
     "text": [
      "100%|██████████| 3556/3556 [04:47<00:00, 12.39it/s]\n",
      "100%|██████████| 397/397 [00:01<00:00, 349.95it/s]\n",
      "  0%|          | 2/3556 [00:00<05:15, 11.25it/s]"
     ]
    },
    {
     "name": "stdout",
     "output_type": "stream",
     "text": [
      "loss is  tensor(0.8572, grad_fn=<MseLossBackward>)\n",
      "Epoch 15/200\n",
      "----------\n"
     ]
    },
    {
     "name": "stderr",
     "output_type": "stream",
     "text": [
      "100%|██████████| 3556/3556 [04:48<00:00, 12.34it/s]\n",
      "100%|██████████| 397/397 [00:00<00:00, 443.93it/s]\n",
      "  0%|          | 2/3556 [00:00<04:43, 12.54it/s]"
     ]
    },
    {
     "name": "stdout",
     "output_type": "stream",
     "text": [
      "loss is  tensor(0.8557, grad_fn=<MseLossBackward>)\n",
      "Epoch 16/200\n",
      "----------\n"
     ]
    },
    {
     "name": "stderr",
     "output_type": "stream",
     "text": [
      "100%|██████████| 3556/3556 [04:46<00:00, 12.43it/s]\n",
      "100%|██████████| 397/397 [00:00<00:00, 425.86it/s]\n",
      "  0%|          | 2/3556 [00:00<04:52, 12.13it/s]"
     ]
    },
    {
     "name": "stdout",
     "output_type": "stream",
     "text": [
      "loss is  tensor(0.8543, grad_fn=<MseLossBackward>)\n",
      "Epoch 17/200\n",
      "----------\n"
     ]
    },
    {
     "name": "stderr",
     "output_type": "stream",
     "text": [
      "100%|██████████| 3556/3556 [04:48<00:00, 12.31it/s]\n",
      "100%|██████████| 397/397 [00:00<00:00, 447.97it/s]\n",
      "  0%|          | 2/3556 [00:00<04:39, 12.73it/s]"
     ]
    },
    {
     "name": "stdout",
     "output_type": "stream",
     "text": [
      "loss is  tensor(0.8528, grad_fn=<MseLossBackward>)\n",
      "Epoch 18/200\n",
      "----------\n"
     ]
    },
    {
     "name": "stderr",
     "output_type": "stream",
     "text": [
      "100%|██████████| 3556/3556 [04:46<00:00, 12.43it/s]\n",
      "100%|██████████| 397/397 [00:00<00:00, 424.93it/s]\n",
      "  0%|          | 2/3556 [00:00<04:54, 12.08it/s]"
     ]
    },
    {
     "name": "stdout",
     "output_type": "stream",
     "text": [
      "loss is  tensor(0.8513, grad_fn=<MseLossBackward>)\n",
      "Epoch 19/200\n",
      "----------\n"
     ]
    },
    {
     "name": "stderr",
     "output_type": "stream",
     "text": [
      "100%|██████████| 3556/3556 [04:49<00:00, 12.30it/s]\n",
      "100%|██████████| 397/397 [00:00<00:00, 448.94it/s]\n",
      "  0%|          | 2/3556 [00:00<04:36, 12.83it/s]"
     ]
    },
    {
     "name": "stdout",
     "output_type": "stream",
     "text": [
      "loss is  tensor(0.8498, grad_fn=<MseLossBackward>)\n",
      "Epoch 20/200\n",
      "----------\n"
     ]
    },
    {
     "name": "stderr",
     "output_type": "stream",
     "text": [
      "100%|██████████| 3556/3556 [04:45<00:00, 12.47it/s]\n",
      "100%|██████████| 397/397 [00:00<00:00, 438.81it/s]\n",
      "  0%|          | 2/3556 [00:00<04:43, 12.52it/s]"
     ]
    },
    {
     "name": "stdout",
     "output_type": "stream",
     "text": [
      "loss is  tensor(0.8483, grad_fn=<MseLossBackward>)\n",
      "Epoch 21/200\n",
      "----------\n"
     ]
    },
    {
     "name": "stderr",
     "output_type": "stream",
     "text": [
      "100%|██████████| 3556/3556 [04:48<00:00, 12.32it/s]\n",
      "100%|██████████| 397/397 [00:01<00:00, 386.03it/s]\n",
      "  0%|          | 2/3556 [00:00<04:52, 12.13it/s]"
     ]
    },
    {
     "name": "stdout",
     "output_type": "stream",
     "text": [
      "loss is  tensor(0.8467, grad_fn=<MseLossBackward>)\n",
      "Epoch 22/200\n",
      "----------\n"
     ]
    },
    {
     "name": "stderr",
     "output_type": "stream",
     "text": [
      "100%|██████████| 3556/3556 [04:46<00:00, 12.42it/s]\n",
      "100%|██████████| 397/397 [00:00<00:00, 440.49it/s]\n",
      "  0%|          | 2/3556 [00:00<04:42, 12.60it/s]"
     ]
    },
    {
     "name": "stdout",
     "output_type": "stream",
     "text": [
      "loss is  tensor(0.8452, grad_fn=<MseLossBackward>)\n",
      "Epoch 23/200\n",
      "----------\n"
     ]
    },
    {
     "name": "stderr",
     "output_type": "stream",
     "text": [
      "100%|██████████| 3556/3556 [04:47<00:00, 12.36it/s]\n",
      "100%|██████████| 397/397 [00:00<00:00, 433.64it/s]\n",
      "  0%|          | 2/3556 [00:00<04:40, 12.67it/s]"
     ]
    },
    {
     "name": "stdout",
     "output_type": "stream",
     "text": [
      "loss is  tensor(0.8438, grad_fn=<MseLossBackward>)\n",
      "Epoch 24/200\n",
      "----------\n"
     ]
    },
    {
     "name": "stderr",
     "output_type": "stream",
     "text": [
      "100%|██████████| 3556/3556 [04:46<00:00, 12.42it/s]\n",
      "100%|██████████| 397/397 [00:01<00:00, 389.72it/s]\n",
      "  0%|          | 2/3556 [00:00<05:10, 11.45it/s]"
     ]
    },
    {
     "name": "stdout",
     "output_type": "stream",
     "text": [
      "loss is  tensor(0.8423, grad_fn=<MseLossBackward>)\n",
      "Epoch 25/200\n",
      "----------\n"
     ]
    },
    {
     "name": "stderr",
     "output_type": "stream",
     "text": [
      "100%|██████████| 3556/3556 [04:47<00:00, 12.38it/s]\n",
      "100%|██████████| 397/397 [00:00<00:00, 448.94it/s]\n",
      "  0%|          | 2/3556 [00:00<04:42, 12.56it/s]"
     ]
    },
    {
     "name": "stdout",
     "output_type": "stream",
     "text": [
      "loss is  tensor(0.8408, grad_fn=<MseLossBackward>)\n",
      "Epoch 26/200\n",
      "----------\n"
     ]
    },
    {
     "name": "stderr",
     "output_type": "stream",
     "text": [
      "100%|██████████| 3556/3556 [04:46<00:00, 12.40it/s]\n",
      "100%|██████████| 397/397 [00:00<00:00, 419.82it/s]\n",
      "  0%|          | 2/3556 [00:00<04:47, 12.34it/s]"
     ]
    },
    {
     "name": "stdout",
     "output_type": "stream",
     "text": [
      "loss is  tensor(0.8394, grad_fn=<MseLossBackward>)\n",
      "Epoch 27/200\n",
      "----------\n"
     ]
    },
    {
     "name": "stderr",
     "output_type": "stream",
     "text": [
      "100%|██████████| 3556/3556 [04:47<00:00, 12.36it/s]\n",
      "100%|██████████| 397/397 [00:00<00:00, 419.43it/s]\n",
      "  0%|          | 2/3556 [00:00<04:35, 12.89it/s]"
     ]
    },
    {
     "name": "stdout",
     "output_type": "stream",
     "text": [
      "loss is  tensor(0.8381, grad_fn=<MseLossBackward>)\n",
      "Epoch 28/200\n",
      "----------\n"
     ]
    },
    {
     "name": "stderr",
     "output_type": "stream",
     "text": [
      "100%|██████████| 3556/3556 [04:47<00:00, 12.36it/s]\n",
      "100%|██████████| 397/397 [00:00<00:00, 423.64it/s]\n",
      "  0%|          | 2/3556 [00:00<04:43, 12.55it/s]"
     ]
    },
    {
     "name": "stdout",
     "output_type": "stream",
     "text": [
      "loss is  tensor(0.8367, grad_fn=<MseLossBackward>)\n",
      "Epoch 29/200\n",
      "----------\n"
     ]
    },
    {
     "name": "stderr",
     "output_type": "stream",
     "text": [
      "100%|██████████| 3556/3556 [04:46<00:00, 12.42it/s]\n",
      "100%|██████████| 397/397 [00:00<00:00, 416.38it/s]\n",
      "  0%|          | 2/3556 [00:00<05:07, 11.55it/s]"
     ]
    },
    {
     "name": "stdout",
     "output_type": "stream",
     "text": [
      "loss is  tensor(0.8355, grad_fn=<MseLossBackward>)\n",
      "Epoch 30/200\n",
      "----------\n"
     ]
    },
    {
     "name": "stderr",
     "output_type": "stream",
     "text": [
      "100%|██████████| 3556/3556 [04:47<00:00, 12.36it/s]\n",
      "100%|██████████| 397/397 [00:00<00:00, 447.26it/s]\n",
      "  0%|          | 2/3556 [00:00<04:43, 12.52it/s]"
     ]
    },
    {
     "name": "stdout",
     "output_type": "stream",
     "text": [
      "loss is  tensor(0.8342, grad_fn=<MseLossBackward>)\n",
      "Epoch 31/200\n",
      "----------\n"
     ]
    },
    {
     "name": "stderr",
     "output_type": "stream",
     "text": [
      "100%|██████████| 3556/3556 [04:46<00:00, 12.42it/s]\n",
      "100%|██████████| 397/397 [00:00<00:00, 434.99it/s]\n",
      "  0%|          | 2/3556 [00:00<04:42, 12.59it/s]"
     ]
    },
    {
     "name": "stdout",
     "output_type": "stream",
     "text": [
      "loss is  tensor(0.8331, grad_fn=<MseLossBackward>)\n",
      "Epoch 32/200\n",
      "----------\n"
     ]
    },
    {
     "name": "stderr",
     "output_type": "stream",
     "text": [
      "100%|██████████| 3556/3556 [04:48<00:00, 12.34it/s]\n",
      "100%|██████████| 397/397 [00:01<00:00, 390.86it/s]\n",
      "  0%|          | 2/3556 [00:00<04:37, 12.82it/s]"
     ]
    },
    {
     "name": "stdout",
     "output_type": "stream",
     "text": [
      "loss is  tensor(0.8319, grad_fn=<MseLossBackward>)\n",
      "Epoch 33/200\n",
      "----------\n"
     ]
    },
    {
     "name": "stderr",
     "output_type": "stream",
     "text": [
      "100%|██████████| 3556/3556 [04:45<00:00, 12.47it/s]\n",
      "100%|██████████| 397/397 [00:01<00:00, 390.76it/s]\n",
      "  0%|          | 2/3556 [00:00<04:47, 12.38it/s]"
     ]
    },
    {
     "name": "stdout",
     "output_type": "stream",
     "text": [
      "loss is  tensor(0.8309, grad_fn=<MseLossBackward>)\n",
      "Epoch 34/200\n",
      "----------\n"
     ]
    },
    {
     "name": "stderr",
     "output_type": "stream",
     "text": [
      "100%|██████████| 3556/3556 [04:48<00:00, 12.33it/s]\n",
      "100%|██████████| 397/397 [00:00<00:00, 442.80it/s]\n",
      "  0%|          | 2/3556 [00:00<04:58, 11.92it/s]"
     ]
    },
    {
     "name": "stdout",
     "output_type": "stream",
     "text": [
      "loss is  tensor(0.8298, grad_fn=<MseLossBackward>)\n",
      "Epoch 35/200\n",
      "----------\n"
     ]
    },
    {
     "name": "stderr",
     "output_type": "stream",
     "text": [
      "100%|██████████| 3556/3556 [04:46<00:00, 12.43it/s]\n",
      "100%|██████████| 397/397 [00:00<00:00, 401.82it/s]\n",
      "  0%|          | 2/3556 [00:00<05:02, 11.75it/s]"
     ]
    },
    {
     "name": "stdout",
     "output_type": "stream",
     "text": [
      "loss is  tensor(0.8289, grad_fn=<MseLossBackward>)\n",
      "Epoch 36/200\n",
      "----------\n"
     ]
    },
    {
     "name": "stderr",
     "output_type": "stream",
     "text": [
      "100%|██████████| 3556/3556 [04:48<00:00, 12.32it/s]\n",
      "100%|██████████| 397/397 [00:00<00:00, 448.43it/s]\n",
      "  0%|          | 2/3556 [00:00<04:46, 12.38it/s]"
     ]
    },
    {
     "name": "stdout",
     "output_type": "stream",
     "text": [
      "loss is  tensor(0.8279, grad_fn=<MseLossBackward>)\n",
      "Epoch 37/200\n",
      "----------\n"
     ]
    },
    {
     "name": "stderr",
     "output_type": "stream",
     "text": [
      "100%|██████████| 3556/3556 [04:46<00:00, 12.42it/s]\n",
      "100%|██████████| 397/397 [00:00<00:00, 423.35it/s]\n",
      "  0%|          | 2/3556 [00:00<04:46, 12.41it/s]"
     ]
    },
    {
     "name": "stdout",
     "output_type": "stream",
     "text": [
      "loss is  tensor(0.8270, grad_fn=<MseLossBackward>)\n",
      "Epoch 38/200\n",
      "----------\n"
     ]
    },
    {
     "name": "stderr",
     "output_type": "stream",
     "text": [
      "100%|██████████| 3556/3556 [04:48<00:00, 12.33it/s]\n",
      "100%|██████████| 397/397 [00:00<00:00, 446.48it/s]\n",
      "  0%|          | 2/3556 [00:00<04:45, 12.43it/s]"
     ]
    },
    {
     "name": "stdout",
     "output_type": "stream",
     "text": [
      "loss is  tensor(0.8262, grad_fn=<MseLossBackward>)\n",
      "Epoch 39/200\n",
      "----------\n"
     ]
    },
    {
     "name": "stderr",
     "output_type": "stream",
     "text": [
      "100%|██████████| 3556/3556 [04:48<00:00, 12.34it/s]\n",
      "100%|██████████| 397/397 [00:01<00:00, 385.68it/s]\n",
      "  0%|          | 2/3556 [00:00<05:30, 10.75it/s]"
     ]
    },
    {
     "name": "stdout",
     "output_type": "stream",
     "text": [
      "loss is  tensor(0.8254, grad_fn=<MseLossBackward>)\n",
      "Epoch 40/200\n",
      "----------\n"
     ]
    },
    {
     "name": "stderr",
     "output_type": "stream",
     "text": [
      "100%|██████████| 3556/3556 [04:51<00:00, 12.18it/s]\n",
      "100%|██████████| 397/397 [00:00<00:00, 413.70it/s]\n",
      "  0%|          | 2/3556 [00:00<04:40, 12.66it/s]"
     ]
    },
    {
     "name": "stdout",
     "output_type": "stream",
     "text": [
      "loss is  tensor(0.8246, grad_fn=<MseLossBackward>)\n",
      "Epoch 41/200\n",
      "----------\n"
     ]
    },
    {
     "name": "stderr",
     "output_type": "stream",
     "text": [
      "100%|██████████| 3556/3556 [04:50<00:00, 12.23it/s]\n",
      "100%|██████████| 397/397 [00:00<00:00, 421.75it/s]\n",
      "  0%|          | 2/3556 [00:00<04:42, 12.60it/s]"
     ]
    },
    {
     "name": "stdout",
     "output_type": "stream",
     "text": [
      "loss is  tensor(0.8238, grad_fn=<MseLossBackward>)\n",
      "Epoch 42/200\n",
      "----------\n"
     ]
    },
    {
     "name": "stderr",
     "output_type": "stream",
     "text": [
      "100%|██████████| 3556/3556 [04:50<00:00, 12.24it/s]\n",
      "100%|██████████| 397/397 [00:00<00:00, 421.79it/s]\n",
      "  0%|          | 2/3556 [00:00<04:45, 12.46it/s]"
     ]
    },
    {
     "name": "stdout",
     "output_type": "stream",
     "text": [
      "loss is  tensor(0.8231, grad_fn=<MseLossBackward>)\n",
      "Epoch 43/200\n",
      "----------\n"
     ]
    },
    {
     "name": "stderr",
     "output_type": "stream",
     "text": [
      "100%|██████████| 3556/3556 [04:50<00:00, 12.22it/s]\n",
      "100%|██████████| 397/397 [00:00<00:00, 430.99it/s]\n",
      "  0%|          | 2/3556 [00:00<04:47, 12.35it/s]"
     ]
    },
    {
     "name": "stdout",
     "output_type": "stream",
     "text": [
      "loss is  tensor(0.8224, grad_fn=<MseLossBackward>)\n",
      "Epoch 44/200\n",
      "----------\n"
     ]
    },
    {
     "name": "stderr",
     "output_type": "stream",
     "text": [
      "100%|██████████| 3556/3556 [04:51<00:00, 12.20it/s]\n",
      "100%|██████████| 397/397 [00:00<00:00, 417.37it/s]\n",
      "  0%|          | 2/3556 [00:00<04:49, 12.28it/s]"
     ]
    },
    {
     "name": "stdout",
     "output_type": "stream",
     "text": [
      "loss is  tensor(0.8218, grad_fn=<MseLossBackward>)\n",
      "Epoch 45/200\n",
      "----------\n"
     ]
    },
    {
     "name": "stderr",
     "output_type": "stream",
     "text": [
      "100%|██████████| 3556/3556 [04:51<00:00, 12.18it/s]\n",
      "100%|██████████| 397/397 [00:00<00:00, 434.16it/s]\n",
      "  0%|          | 2/3556 [00:00<04:54, 12.07it/s]"
     ]
    },
    {
     "name": "stdout",
     "output_type": "stream",
     "text": [
      "loss is  tensor(0.8211, grad_fn=<MseLossBackward>)\n",
      "Epoch 46/200\n",
      "----------\n"
     ]
    },
    {
     "name": "stderr",
     "output_type": "stream",
     "text": [
      "100%|██████████| 3556/3556 [04:49<00:00, 12.27it/s]\n",
      "100%|██████████| 397/397 [00:00<00:00, 432.74it/s]\n",
      "  0%|          | 2/3556 [00:00<04:45, 12.47it/s]"
     ]
    },
    {
     "name": "stdout",
     "output_type": "stream",
     "text": [
      "loss is  tensor(0.8205, grad_fn=<MseLossBackward>)\n",
      "Epoch 47/200\n",
      "----------\n"
     ]
    },
    {
     "name": "stderr",
     "output_type": "stream",
     "text": [
      "100%|██████████| 3556/3556 [04:51<00:00, 12.20it/s]\n",
      "100%|██████████| 397/397 [00:00<00:00, 426.90it/s]\n",
      "  0%|          | 2/3556 [00:00<04:46, 12.40it/s]"
     ]
    },
    {
     "name": "stdout",
     "output_type": "stream",
     "text": [
      "loss is  tensor(0.8199, grad_fn=<MseLossBackward>)\n",
      "Epoch 48/200\n",
      "----------\n"
     ]
    },
    {
     "name": "stderr",
     "output_type": "stream",
     "text": [
      "100%|██████████| 3556/3556 [04:49<00:00, 12.28it/s]\n",
      "100%|██████████| 397/397 [00:00<00:00, 423.07it/s]\n",
      "  0%|          | 2/3556 [00:00<04:44, 12.47it/s]"
     ]
    },
    {
     "name": "stdout",
     "output_type": "stream",
     "text": [
      "loss is  tensor(0.8193, grad_fn=<MseLossBackward>)\n",
      "Epoch 49/200\n",
      "----------\n"
     ]
    },
    {
     "name": "stderr",
     "output_type": "stream",
     "text": [
      "100%|██████████| 3556/3556 [04:53<00:00, 12.13it/s]\n",
      "100%|██████████| 397/397 [00:00<00:00, 399.55it/s]\n",
      "  0%|          | 2/3556 [00:00<05:07, 11.54it/s]"
     ]
    },
    {
     "name": "stdout",
     "output_type": "stream",
     "text": [
      "loss is  tensor(0.8188, grad_fn=<MseLossBackward>)\n",
      "Epoch 50/200\n",
      "----------\n"
     ]
    },
    {
     "name": "stderr",
     "output_type": "stream",
     "text": [
      "100%|██████████| 3556/3556 [04:48<00:00, 12.32it/s]\n",
      "100%|██████████| 397/397 [00:00<00:00, 408.88it/s]\n",
      "  0%|          | 2/3556 [00:00<04:50, 12.24it/s]"
     ]
    },
    {
     "name": "stdout",
     "output_type": "stream",
     "text": [
      "loss is  tensor(0.8182, grad_fn=<MseLossBackward>)\n",
      "Epoch 51/200\n",
      "----------\n"
     ]
    },
    {
     "name": "stderr",
     "output_type": "stream",
     "text": [
      "100%|██████████| 3556/3556 [04:52<00:00, 12.15it/s]\n",
      "100%|██████████| 397/397 [00:00<00:00, 403.26it/s]\n",
      "  0%|          | 2/3556 [00:00<05:02, 11.76it/s]"
     ]
    },
    {
     "name": "stdout",
     "output_type": "stream",
     "text": [
      "loss is  tensor(0.8177, grad_fn=<MseLossBackward>)\n",
      "Epoch 52/200\n",
      "----------\n"
     ]
    },
    {
     "name": "stderr",
     "output_type": "stream",
     "text": [
      "100%|██████████| 3556/3556 [04:48<00:00, 12.32it/s]\n",
      "100%|██████████| 397/397 [00:00<00:00, 425.19it/s]\n",
      "  0%|          | 2/3556 [00:00<04:54, 12.09it/s]"
     ]
    },
    {
     "name": "stdout",
     "output_type": "stream",
     "text": [
      "loss is  tensor(0.8172, grad_fn=<MseLossBackward>)\n",
      "Epoch 53/200\n",
      "----------\n"
     ]
    },
    {
     "name": "stderr",
     "output_type": "stream",
     "text": [
      "100%|██████████| 3556/3556 [04:52<00:00, 12.15it/s]\n",
      "100%|██████████| 397/397 [00:01<00:00, 390.12it/s]\n",
      "  0%|          | 2/3556 [00:00<05:07, 11.54it/s]"
     ]
    },
    {
     "name": "stdout",
     "output_type": "stream",
     "text": [
      "loss is  tensor(0.8167, grad_fn=<MseLossBackward>)\n",
      "Epoch 54/200\n",
      "----------\n"
     ]
    },
    {
     "name": "stderr",
     "output_type": "stream",
     "text": [
      "100%|██████████| 3556/3556 [04:49<00:00, 12.27it/s]\n",
      "100%|██████████| 397/397 [00:00<00:00, 418.31it/s]\n",
      "  0%|          | 2/3556 [00:00<05:16, 11.23it/s]"
     ]
    },
    {
     "name": "stdout",
     "output_type": "stream",
     "text": [
      "loss is  tensor(0.8162, grad_fn=<MseLossBackward>)\n",
      "Epoch 55/200\n",
      "----------\n"
     ]
    },
    {
     "name": "stderr",
     "output_type": "stream",
     "text": [
      "100%|██████████| 3556/3556 [04:51<00:00, 12.19it/s]\n",
      "100%|██████████| 397/397 [00:00<00:00, 397.90it/s]\n",
      "  0%|          | 2/3556 [00:00<04:49, 12.26it/s]"
     ]
    },
    {
     "name": "stdout",
     "output_type": "stream",
     "text": [
      "loss is  tensor(0.8158, grad_fn=<MseLossBackward>)\n",
      "Epoch 56/200\n",
      "----------\n"
     ]
    },
    {
     "name": "stderr",
     "output_type": "stream",
     "text": [
      "100%|██████████| 3556/3556 [04:49<00:00, 12.27it/s]\n",
      "100%|██████████| 397/397 [00:01<00:00, 376.51it/s]\n",
      "  0%|          | 2/3556 [00:00<05:09, 11.49it/s]"
     ]
    },
    {
     "name": "stdout",
     "output_type": "stream",
     "text": [
      "loss is  tensor(0.8153, grad_fn=<MseLossBackward>)\n",
      "Epoch 57/200\n",
      "----------\n"
     ]
    },
    {
     "name": "stderr",
     "output_type": "stream",
     "text": [
      "100%|██████████| 3556/3556 [04:52<00:00, 12.17it/s]\n",
      "100%|██████████| 397/397 [00:00<00:00, 438.58it/s]\n",
      "  0%|          | 2/3556 [00:00<04:56, 11.98it/s]"
     ]
    },
    {
     "name": "stdout",
     "output_type": "stream",
     "text": [
      "loss is  tensor(0.8149, grad_fn=<MseLossBackward>)\n",
      "Epoch 58/200\n",
      "----------\n"
     ]
    },
    {
     "name": "stderr",
     "output_type": "stream",
     "text": [
      "100%|██████████| 3556/3556 [04:51<00:00, 12.21it/s]\n",
      "100%|██████████| 397/397 [00:00<00:00, 433.42it/s]\n",
      "  0%|          | 2/3556 [00:00<04:41, 12.62it/s]"
     ]
    },
    {
     "name": "stdout",
     "output_type": "stream",
     "text": [
      "loss is  tensor(0.8145, grad_fn=<MseLossBackward>)\n",
      "Epoch 59/200\n",
      "----------\n"
     ]
    },
    {
     "name": "stderr",
     "output_type": "stream",
     "text": [
      "100%|██████████| 3556/3556 [04:50<00:00, 12.23it/s]\n",
      "100%|██████████| 397/397 [00:00<00:00, 413.15it/s]\n",
      "  0%|          | 2/3556 [00:00<04:40, 12.66it/s]"
     ]
    },
    {
     "name": "stdout",
     "output_type": "stream",
     "text": [
      "loss is  tensor(0.8140, grad_fn=<MseLossBackward>)\n",
      "Epoch 60/200\n",
      "----------\n"
     ]
    },
    {
     "name": "stderr",
     "output_type": "stream",
     "text": [
      "100%|██████████| 3556/3556 [04:50<00:00, 12.23it/s]\n",
      "100%|██████████| 397/397 [00:00<00:00, 436.43it/s]\n",
      "  0%|          | 2/3556 [00:00<04:43, 12.55it/s]"
     ]
    },
    {
     "name": "stdout",
     "output_type": "stream",
     "text": [
      "loss is  tensor(0.8136, grad_fn=<MseLossBackward>)\n",
      "Epoch 61/200\n",
      "----------\n"
     ]
    },
    {
     "name": "stderr",
     "output_type": "stream",
     "text": [
      "100%|██████████| 3556/3556 [04:51<00:00, 12.18it/s]\n",
      "100%|██████████| 397/397 [00:00<00:00, 402.23it/s]\n",
      "  0%|          | 2/3556 [00:00<04:42, 12.57it/s]"
     ]
    },
    {
     "name": "stdout",
     "output_type": "stream",
     "text": [
      "loss is  tensor(0.8132, grad_fn=<MseLossBackward>)\n",
      "Epoch 62/200\n",
      "----------\n"
     ]
    },
    {
     "name": "stderr",
     "output_type": "stream",
     "text": [
      "100%|██████████| 3556/3556 [04:50<00:00, 12.22it/s]\n",
      "100%|██████████| 397/397 [00:00<00:00, 428.13it/s]\n",
      "  0%|          | 2/3556 [00:00<04:49, 12.29it/s]"
     ]
    },
    {
     "name": "stdout",
     "output_type": "stream",
     "text": [
      "loss is  tensor(0.8128, grad_fn=<MseLossBackward>)\n",
      "Epoch 63/200\n",
      "----------\n"
     ]
    },
    {
     "name": "stderr",
     "output_type": "stream",
     "text": [
      "100%|██████████| 3556/3556 [04:50<00:00, 12.24it/s]\n",
      "100%|██████████| 397/397 [00:00<00:00, 407.75it/s]\n",
      "  0%|          | 2/3556 [00:00<04:58, 11.90it/s]"
     ]
    },
    {
     "name": "stdout",
     "output_type": "stream",
     "text": [
      "loss is  tensor(0.8124, grad_fn=<MseLossBackward>)\n",
      "Epoch 64/200\n",
      "----------\n"
     ]
    },
    {
     "name": "stderr",
     "output_type": "stream",
     "text": [
      "100%|██████████| 3556/3556 [04:51<00:00, 12.20it/s]\n",
      "100%|██████████| 397/397 [00:00<00:00, 404.05it/s]\n",
      "  0%|          | 2/3556 [00:00<04:57, 11.94it/s]"
     ]
    },
    {
     "name": "stdout",
     "output_type": "stream",
     "text": [
      "loss is  tensor(0.8121, grad_fn=<MseLossBackward>)\n",
      "Epoch 65/200\n",
      "----------\n"
     ]
    },
    {
     "name": "stderr",
     "output_type": "stream",
     "text": [
      "100%|██████████| 3556/3556 [04:50<00:00, 12.26it/s]\n",
      "100%|██████████| 397/397 [00:00<00:00, 407.23it/s]\n",
      "  0%|          | 2/3556 [00:00<04:53, 12.12it/s]"
     ]
    },
    {
     "name": "stdout",
     "output_type": "stream",
     "text": [
      "loss is  tensor(0.8117, grad_fn=<MseLossBackward>)\n",
      "Epoch 66/200\n",
      "----------\n"
     ]
    },
    {
     "name": "stderr",
     "output_type": "stream",
     "text": [
      "100%|██████████| 3556/3556 [04:53<00:00, 12.13it/s]\n",
      "100%|██████████| 397/397 [00:00<00:00, 442.97it/s]\n",
      "  0%|          | 2/3556 [00:00<04:42, 12.60it/s]"
     ]
    },
    {
     "name": "stdout",
     "output_type": "stream",
     "text": [
      "loss is  tensor(0.8113, grad_fn=<MseLossBackward>)\n",
      "Epoch 67/200\n",
      "----------\n"
     ]
    },
    {
     "name": "stderr",
     "output_type": "stream",
     "text": [
      "100%|██████████| 3556/3556 [04:49<00:00, 12.30it/s]\n",
      "100%|██████████| 397/397 [00:01<00:00, 364.50it/s]\n",
      "  0%|          | 2/3556 [00:00<05:05, 11.63it/s]"
     ]
    },
    {
     "name": "stdout",
     "output_type": "stream",
     "text": [
      "loss is  tensor(0.8110, grad_fn=<MseLossBackward>)\n",
      "Epoch 68/200\n",
      "----------\n"
     ]
    },
    {
     "name": "stderr",
     "output_type": "stream",
     "text": [
      "100%|██████████| 3556/3556 [04:52<00:00, 12.16it/s]\n",
      "100%|██████████| 397/397 [00:00<00:00, 440.12it/s]\n",
      "  0%|          | 2/3556 [00:00<04:45, 12.45it/s]"
     ]
    },
    {
     "name": "stdout",
     "output_type": "stream",
     "text": [
      "loss is  tensor(0.8106, grad_fn=<MseLossBackward>)\n",
      "Epoch 69/200\n",
      "----------\n"
     ]
    },
    {
     "name": "stderr",
     "output_type": "stream",
     "text": [
      "100%|██████████| 3556/3556 [04:49<00:00, 12.26it/s]\n",
      "100%|██████████| 397/397 [00:00<00:00, 426.48it/s]\n",
      "  0%|          | 2/3556 [00:00<04:44, 12.48it/s]"
     ]
    },
    {
     "name": "stdout",
     "output_type": "stream",
     "text": [
      "loss is  tensor(0.8103, grad_fn=<MseLossBackward>)\n",
      "Epoch 70/200\n",
      "----------\n"
     ]
    },
    {
     "name": "stderr",
     "output_type": "stream",
     "text": [
      "100%|██████████| 3556/3556 [04:52<00:00, 12.15it/s]\n",
      "100%|██████████| 397/397 [00:00<00:00, 436.93it/s]\n",
      "  0%|          | 2/3556 [00:00<04:46, 12.40it/s]"
     ]
    },
    {
     "name": "stdout",
     "output_type": "stream",
     "text": [
      "loss is  tensor(0.8099, grad_fn=<MseLossBackward>)\n",
      "Epoch 71/200\n",
      "----------\n"
     ]
    },
    {
     "name": "stderr",
     "output_type": "stream",
     "text": [
      "100%|██████████| 3556/3556 [04:50<00:00, 12.24it/s]\n",
      "100%|██████████| 397/397 [00:00<00:00, 417.02it/s]\n",
      "  0%|          | 2/3556 [00:00<04:43, 12.52it/s]"
     ]
    },
    {
     "name": "stdout",
     "output_type": "stream",
     "text": [
      "loss is  tensor(0.8096, grad_fn=<MseLossBackward>)\n",
      "Epoch 72/200\n",
      "----------\n"
     ]
    },
    {
     "name": "stderr",
     "output_type": "stream",
     "text": [
      "100%|██████████| 3556/3556 [04:55<00:00, 12.02it/s]\n",
      "100%|██████████| 397/397 [00:00<00:00, 430.33it/s]\n",
      "  0%|          | 2/3556 [00:00<04:53, 12.13it/s]"
     ]
    },
    {
     "name": "stdout",
     "output_type": "stream",
     "text": [
      "loss is  tensor(0.8093, grad_fn=<MseLossBackward>)\n",
      "Epoch 73/200\n",
      "----------\n"
     ]
    },
    {
     "name": "stderr",
     "output_type": "stream",
     "text": [
      "100%|██████████| 3556/3556 [04:51<00:00, 12.20it/s]\n",
      "100%|██████████| 397/397 [00:00<00:00, 409.80it/s]\n",
      "  0%|          | 2/3556 [00:00<04:55, 12.03it/s]"
     ]
    },
    {
     "name": "stdout",
     "output_type": "stream",
     "text": [
      "loss is  tensor(0.8089, grad_fn=<MseLossBackward>)\n",
      "Epoch 74/200\n",
      "----------\n"
     ]
    },
    {
     "name": "stderr",
     "output_type": "stream",
     "text": [
      "100%|██████████| 3556/3556 [04:52<00:00, 12.15it/s]\n",
      "100%|██████████| 397/397 [00:01<00:00, 390.97it/s]\n",
      "  0%|          | 2/3556 [00:00<04:47, 12.37it/s]"
     ]
    },
    {
     "name": "stdout",
     "output_type": "stream",
     "text": [
      "loss is  tensor(0.8086, grad_fn=<MseLossBackward>)\n",
      "Epoch 75/200\n",
      "----------\n"
     ]
    },
    {
     "name": "stderr",
     "output_type": "stream",
     "text": [
      "100%|██████████| 3556/3556 [04:51<00:00, 12.21it/s]\n",
      "100%|██████████| 397/397 [00:00<00:00, 437.60it/s]\n",
      "  0%|          | 2/3556 [00:00<04:53, 12.11it/s]"
     ]
    },
    {
     "name": "stdout",
     "output_type": "stream",
     "text": [
      "loss is  tensor(0.8083, grad_fn=<MseLossBackward>)\n",
      "Epoch 76/200\n",
      "----------\n"
     ]
    },
    {
     "name": "stderr",
     "output_type": "stream",
     "text": [
      "100%|██████████| 3556/3556 [04:52<00:00, 12.17it/s]\n",
      "100%|██████████| 397/397 [00:00<00:00, 435.86it/s]\n",
      "  0%|          | 2/3556 [00:00<04:56, 11.99it/s]"
     ]
    },
    {
     "name": "stdout",
     "output_type": "stream",
     "text": [
      "loss is  tensor(0.8080, grad_fn=<MseLossBackward>)\n",
      "Epoch 77/200\n",
      "----------\n"
     ]
    },
    {
     "name": "stderr",
     "output_type": "stream",
     "text": [
      "100%|██████████| 3556/3556 [04:50<00:00, 12.23it/s]\n",
      "100%|██████████| 397/397 [00:00<00:00, 417.92it/s]\n",
      "  0%|          | 2/3556 [00:00<04:53, 12.12it/s]"
     ]
    },
    {
     "name": "stdout",
     "output_type": "stream",
     "text": [
      "loss is  tensor(0.8076, grad_fn=<MseLossBackward>)\n",
      "Epoch 78/200\n",
      "----------\n"
     ]
    },
    {
     "name": "stderr",
     "output_type": "stream",
     "text": [
      "100%|██████████| 3556/3556 [04:52<00:00, 12.15it/s]\n",
      "100%|██████████| 397/397 [00:01<00:00, 369.55it/s]\n",
      "  0%|          | 0/3556 [00:00<?, ?it/s]"
     ]
    },
    {
     "name": "stdout",
     "output_type": "stream",
     "text": [
      "loss is  tensor(0.8073, grad_fn=<MseLossBackward>)\n",
      "Epoch 79/200\n",
      "----------\n"
     ]
    },
    {
     "name": "stderr",
     "output_type": "stream",
     "text": [
      "100%|██████████| 3556/3556 [04:52<00:00, 12.17it/s]\n",
      "100%|██████████| 397/397 [00:00<00:00, 428.59it/s]\n",
      "  0%|          | 2/3556 [00:00<04:44, 12.48it/s]"
     ]
    },
    {
     "name": "stdout",
     "output_type": "stream",
     "text": [
      "loss is  tensor(0.8070, grad_fn=<MseLossBackward>)\n",
      "Epoch 80/200\n",
      "----------\n"
     ]
    },
    {
     "name": "stderr",
     "output_type": "stream",
     "text": [
      "100%|██████████| 3556/3556 [04:50<00:00, 12.23it/s]\n",
      "100%|██████████| 397/397 [00:00<00:00, 430.93it/s]\n",
      "  0%|          | 2/3556 [00:00<04:45, 12.45it/s]"
     ]
    },
    {
     "name": "stdout",
     "output_type": "stream",
     "text": [
      "loss is  tensor(0.8067, grad_fn=<MseLossBackward>)\n",
      "Epoch 81/200\n",
      "----------\n"
     ]
    },
    {
     "name": "stderr",
     "output_type": "stream",
     "text": [
      "100%|██████████| 3556/3556 [04:50<00:00, 12.23it/s]\n",
      "100%|██████████| 397/397 [00:00<00:00, 436.94it/s]\n",
      "  0%|          | 2/3556 [00:00<04:35, 12.88it/s]"
     ]
    },
    {
     "name": "stdout",
     "output_type": "stream",
     "text": [
      "loss is  tensor(0.8064, grad_fn=<MseLossBackward>)\n",
      "Epoch 82/200\n",
      "----------\n"
     ]
    },
    {
     "name": "stderr",
     "output_type": "stream",
     "text": [
      "100%|██████████| 3556/3556 [04:50<00:00, 12.23it/s]\n",
      "100%|██████████| 397/397 [00:00<00:00, 425.12it/s]\n",
      "  0%|          | 2/3556 [00:00<04:45, 12.44it/s]"
     ]
    },
    {
     "name": "stdout",
     "output_type": "stream",
     "text": [
      "loss is  tensor(0.8061, grad_fn=<MseLossBackward>)\n",
      "Epoch 83/200\n",
      "----------\n"
     ]
    },
    {
     "name": "stderr",
     "output_type": "stream",
     "text": [
      "100%|██████████| 3556/3556 [04:51<00:00, 12.20it/s]\n",
      "100%|██████████| 397/397 [00:00<00:00, 440.02it/s]\n",
      "  0%|          | 2/3556 [00:00<04:52, 12.17it/s]"
     ]
    },
    {
     "name": "stdout",
     "output_type": "stream",
     "text": [
      "loss is  tensor(0.8057, grad_fn=<MseLossBackward>)\n",
      "Epoch 84/200\n",
      "----------\n"
     ]
    },
    {
     "name": "stderr",
     "output_type": "stream",
     "text": [
      "100%|██████████| 3556/3556 [04:49<00:00, 12.28it/s]\n",
      "100%|██████████| 397/397 [00:00<00:00, 425.17it/s]\n",
      "  0%|          | 2/3556 [00:00<04:36, 12.87it/s]"
     ]
    },
    {
     "name": "stdout",
     "output_type": "stream",
     "text": [
      "loss is  tensor(0.8054, grad_fn=<MseLossBackward>)\n",
      "Epoch 85/200\n",
      "----------\n"
     ]
    },
    {
     "name": "stderr",
     "output_type": "stream",
     "text": [
      "100%|██████████| 3556/3556 [04:52<00:00, 12.17it/s]\n",
      "100%|██████████| 397/397 [00:00<00:00, 432.69it/s]\n",
      "  0%|          | 2/3556 [00:00<04:47, 12.37it/s]"
     ]
    },
    {
     "name": "stdout",
     "output_type": "stream",
     "text": [
      "loss is  tensor(0.8051, grad_fn=<MseLossBackward>)\n",
      "Epoch 86/200\n",
      "----------\n"
     ]
    },
    {
     "name": "stderr",
     "output_type": "stream",
     "text": [
      "100%|██████████| 3556/3556 [04:49<00:00, 12.27it/s]\n",
      "100%|██████████| 397/397 [00:00<00:00, 406.10it/s]\n",
      "  0%|          | 2/3556 [00:00<04:46, 12.41it/s]"
     ]
    },
    {
     "name": "stdout",
     "output_type": "stream",
     "text": [
      "loss is  tensor(0.8048, grad_fn=<MseLossBackward>)\n",
      "Epoch 87/200\n",
      "----------\n"
     ]
    },
    {
     "name": "stderr",
     "output_type": "stream",
     "text": [
      "100%|██████████| 3556/3556 [04:53<00:00, 12.11it/s]\n",
      "100%|██████████| 397/397 [00:01<00:00, 378.15it/s]\n",
      "  0%|          | 2/3556 [00:00<04:45, 12.45it/s]"
     ]
    },
    {
     "name": "stdout",
     "output_type": "stream",
     "text": [
      "loss is  tensor(0.8045, grad_fn=<MseLossBackward>)\n",
      "Epoch 88/200\n",
      "----------\n"
     ]
    },
    {
     "name": "stderr",
     "output_type": "stream",
     "text": [
      "100%|██████████| 3556/3556 [04:49<00:00, 12.27it/s]\n",
      "100%|██████████| 397/397 [00:01<00:00, 375.87it/s]\n",
      "  0%|          | 2/3556 [00:00<05:02, 11.76it/s]"
     ]
    },
    {
     "name": "stdout",
     "output_type": "stream",
     "text": [
      "loss is  tensor(0.8042, grad_fn=<MseLossBackward>)\n",
      "Epoch 89/200\n",
      "----------\n"
     ]
    },
    {
     "name": "stderr",
     "output_type": "stream",
     "text": [
      "100%|██████████| 3556/3556 [04:53<00:00, 12.14it/s]\n",
      "100%|██████████| 397/397 [00:00<00:00, 443.41it/s]\n",
      "  0%|          | 2/3556 [00:00<04:42, 12.59it/s]"
     ]
    },
    {
     "name": "stdout",
     "output_type": "stream",
     "text": [
      "loss is  tensor(0.8038, grad_fn=<MseLossBackward>)\n",
      "Epoch 90/200\n",
      "----------\n"
     ]
    },
    {
     "name": "stderr",
     "output_type": "stream",
     "text": [
      "100%|██████████| 3556/3556 [04:49<00:00, 12.28it/s]\n",
      "100%|██████████| 397/397 [00:00<00:00, 423.39it/s]\n",
      "  0%|          | 2/3556 [00:00<04:36, 12.83it/s]"
     ]
    },
    {
     "name": "stdout",
     "output_type": "stream",
     "text": [
      "loss is  tensor(0.8035, grad_fn=<MseLossBackward>)\n",
      "Epoch 91/200\n",
      "----------\n"
     ]
    },
    {
     "name": "stderr",
     "output_type": "stream",
     "text": [
      "100%|██████████| 3556/3556 [04:52<00:00, 12.15it/s]\n",
      "100%|██████████| 397/397 [00:00<00:00, 421.69it/s]\n",
      "  0%|          | 2/3556 [00:00<04:44, 12.50it/s]"
     ]
    },
    {
     "name": "stdout",
     "output_type": "stream",
     "text": [
      "loss is  tensor(0.8032, grad_fn=<MseLossBackward>)\n",
      "Epoch 92/200\n",
      "----------\n"
     ]
    },
    {
     "name": "stderr",
     "output_type": "stream",
     "text": [
      "100%|██████████| 3556/3556 [04:50<00:00, 12.24it/s]\n",
      "100%|██████████| 397/397 [00:00<00:00, 422.41it/s]\n",
      "  0%|          | 2/3556 [00:00<04:50, 12.22it/s]"
     ]
    },
    {
     "name": "stdout",
     "output_type": "stream",
     "text": [
      "loss is  tensor(0.8029, grad_fn=<MseLossBackward>)\n",
      "Epoch 93/200\n",
      "----------\n"
     ]
    },
    {
     "name": "stderr",
     "output_type": "stream",
     "text": [
      "100%|██████████| 3556/3556 [04:52<00:00, 12.18it/s]\n",
      "100%|██████████| 397/397 [00:01<00:00, 396.69it/s]\n",
      "  0%|          | 2/3556 [00:00<05:08, 11.53it/s]"
     ]
    },
    {
     "name": "stdout",
     "output_type": "stream",
     "text": [
      "loss is  tensor(0.8025, grad_fn=<MseLossBackward>)\n",
      "Epoch 94/200\n",
      "----------\n"
     ]
    },
    {
     "name": "stderr",
     "output_type": "stream",
     "text": [
      "100%|██████████| 3556/3556 [04:50<00:00, 12.24it/s]\n",
      "100%|██████████| 397/397 [00:00<00:00, 403.77it/s]\n",
      "  0%|          | 2/3556 [00:00<05:07, 11.58it/s]"
     ]
    },
    {
     "name": "stdout",
     "output_type": "stream",
     "text": [
      "loss is  tensor(0.8022, grad_fn=<MseLossBackward>)\n",
      "Epoch 95/200\n",
      "----------\n"
     ]
    },
    {
     "name": "stderr",
     "output_type": "stream",
     "text": [
      "100%|██████████| 3556/3556 [04:52<00:00, 12.17it/s]\n",
      "100%|██████████| 397/397 [00:00<00:00, 401.08it/s]\n",
      "  0%|          | 2/3556 [00:00<04:46, 12.40it/s]"
     ]
    },
    {
     "name": "stdout",
     "output_type": "stream",
     "text": [
      "loss is  tensor(0.8019, grad_fn=<MseLossBackward>)\n",
      "Epoch 96/200\n",
      "----------\n"
     ]
    },
    {
     "name": "stderr",
     "output_type": "stream",
     "text": [
      "100%|██████████| 3556/3556 [04:50<00:00, 12.23it/s]\n",
      "100%|██████████| 397/397 [00:00<00:00, 413.90it/s]\n",
      "  0%|          | 2/3556 [00:00<04:45, 12.46it/s]"
     ]
    },
    {
     "name": "stdout",
     "output_type": "stream",
     "text": [
      "loss is  tensor(0.8015, grad_fn=<MseLossBackward>)\n",
      "Epoch 97/200\n",
      "----------\n"
     ]
    },
    {
     "name": "stderr",
     "output_type": "stream",
     "text": [
      "100%|██████████| 3556/3556 [04:50<00:00, 12.23it/s]\n",
      "100%|██████████| 397/397 [00:00<00:00, 425.70it/s]\n",
      "  0%|          | 2/3556 [00:00<04:40, 12.68it/s]"
     ]
    },
    {
     "name": "stdout",
     "output_type": "stream",
     "text": [
      "loss is  tensor(0.8012, grad_fn=<MseLossBackward>)\n",
      "Epoch 98/200\n",
      "----------\n"
     ]
    },
    {
     "name": "stderr",
     "output_type": "stream",
     "text": [
      "100%|██████████| 3556/3556 [04:50<00:00, 12.23it/s]\n",
      "100%|██████████| 397/397 [00:00<00:00, 436.64it/s]\n",
      "  0%|          | 2/3556 [00:00<04:36, 12.87it/s]"
     ]
    },
    {
     "name": "stdout",
     "output_type": "stream",
     "text": [
      "loss is  tensor(0.8009, grad_fn=<MseLossBackward>)\n",
      "Epoch 99/200\n",
      "----------\n"
     ]
    },
    {
     "name": "stderr",
     "output_type": "stream",
     "text": [
      "100%|██████████| 3556/3556 [04:51<00:00, 12.19it/s]\n",
      "100%|██████████| 397/397 [00:00<00:00, 420.78it/s]\n",
      "  0%|          | 2/3556 [00:00<04:54, 12.08it/s]"
     ]
    },
    {
     "name": "stdout",
     "output_type": "stream",
     "text": [
      "loss is  tensor(0.8005, grad_fn=<MseLossBackward>)\n",
      "Epoch 100/200\n",
      "----------\n"
     ]
    },
    {
     "name": "stderr",
     "output_type": "stream",
     "text": [
      "100%|██████████| 3556/3556 [04:51<00:00, 12.20it/s]\n",
      "100%|██████████| 397/397 [00:00<00:00, 418.70it/s]\n",
      "  0%|          | 2/3556 [00:00<05:04, 11.67it/s]"
     ]
    },
    {
     "name": "stdout",
     "output_type": "stream",
     "text": [
      "loss is  tensor(0.8002, grad_fn=<MseLossBackward>)\n",
      "Epoch 101/200\n",
      "----------\n"
     ]
    },
    {
     "name": "stderr",
     "output_type": "stream",
     "text": [
      "100%|██████████| 3556/3556 [04:50<00:00, 12.26it/s]\n",
      "100%|██████████| 397/397 [00:00<00:00, 427.28it/s]\n",
      "  0%|          | 2/3556 [00:00<04:51, 12.20it/s]"
     ]
    },
    {
     "name": "stdout",
     "output_type": "stream",
     "text": [
      "loss is  tensor(0.7998, grad_fn=<MseLossBackward>)\n",
      "Epoch 102/200\n",
      "----------\n"
     ]
    },
    {
     "name": "stderr",
     "output_type": "stream",
     "text": [
      "100%|██████████| 3556/3556 [04:52<00:00, 12.15it/s]\n",
      "100%|██████████| 397/397 [00:00<00:00, 402.39it/s]\n",
      "  0%|          | 2/3556 [00:00<05:11, 11.42it/s]"
     ]
    },
    {
     "name": "stdout",
     "output_type": "stream",
     "text": [
      "loss is  tensor(0.7995, grad_fn=<MseLossBackward>)\n",
      "Epoch 103/200\n",
      "----------\n"
     ]
    },
    {
     "name": "stderr",
     "output_type": "stream",
     "text": [
      "100%|██████████| 3556/3556 [04:49<00:00, 12.29it/s]\n",
      "100%|██████████| 397/397 [00:00<00:00, 405.22it/s]\n",
      "  0%|          | 2/3556 [00:00<04:48, 12.33it/s]"
     ]
    },
    {
     "name": "stdout",
     "output_type": "stream",
     "text": [
      "loss is  tensor(0.7991, grad_fn=<MseLossBackward>)\n",
      "Epoch 104/200\n",
      "----------\n"
     ]
    },
    {
     "name": "stderr",
     "output_type": "stream",
     "text": [
      "100%|██████████| 3556/3556 [04:53<00:00, 12.11it/s]\n",
      "100%|██████████| 397/397 [00:00<00:00, 443.72it/s]\n",
      "  0%|          | 2/3556 [00:00<04:48, 12.30it/s]"
     ]
    },
    {
     "name": "stdout",
     "output_type": "stream",
     "text": [
      "loss is  tensor(0.7988, grad_fn=<MseLossBackward>)\n",
      "Epoch 105/200\n",
      "----------\n"
     ]
    },
    {
     "name": "stderr",
     "output_type": "stream",
     "text": [
      "100%|██████████| 3556/3556 [04:49<00:00, 12.27it/s]\n",
      "100%|██████████| 397/397 [00:00<00:00, 401.08it/s]\n",
      "  0%|          | 2/3556 [00:00<04:42, 12.57it/s]"
     ]
    },
    {
     "name": "stdout",
     "output_type": "stream",
     "text": [
      "loss is  tensor(0.7984, grad_fn=<MseLossBackward>)\n",
      "Epoch 106/200\n",
      "----------\n"
     ]
    },
    {
     "name": "stderr",
     "output_type": "stream",
     "text": [
      "100%|██████████| 3556/3556 [04:52<00:00, 12.16it/s]\n",
      "100%|██████████| 397/397 [00:00<00:00, 439.85it/s]\n",
      "  0%|          | 2/3556 [00:00<04:41, 12.61it/s]"
     ]
    },
    {
     "name": "stdout",
     "output_type": "stream",
     "text": [
      "loss is  tensor(0.7981, grad_fn=<MseLossBackward>)\n",
      "Epoch 107/200\n",
      "----------\n"
     ]
    },
    {
     "name": "stderr",
     "output_type": "stream",
     "text": [
      "100%|██████████| 3556/3556 [04:49<00:00, 12.27it/s]\n",
      "100%|██████████| 397/397 [00:00<00:00, 434.82it/s]\n",
      "  0%|          | 2/3556 [00:00<04:41, 12.61it/s]"
     ]
    },
    {
     "name": "stdout",
     "output_type": "stream",
     "text": [
      "loss is  tensor(0.7977, grad_fn=<MseLossBackward>)\n",
      "Epoch 108/200\n",
      "----------\n"
     ]
    },
    {
     "name": "stderr",
     "output_type": "stream",
     "text": [
      "100%|██████████| 3556/3556 [04:52<00:00, 12.14it/s]\n",
      "100%|██████████| 397/397 [00:00<00:00, 426.20it/s]\n",
      "  0%|          | 2/3556 [00:00<04:48, 12.34it/s]"
     ]
    },
    {
     "name": "stdout",
     "output_type": "stream",
     "text": [
      "loss is  tensor(0.7974, grad_fn=<MseLossBackward>)\n",
      "Epoch 109/200\n",
      "----------\n"
     ]
    },
    {
     "name": "stderr",
     "output_type": "stream",
     "text": [
      "100%|██████████| 3556/3556 [04:50<00:00, 12.26it/s]\n",
      "100%|██████████| 397/397 [00:00<00:00, 409.81it/s]\n",
      "  0%|          | 0/3556 [00:00<?, ?it/s]"
     ]
    },
    {
     "name": "stdout",
     "output_type": "stream",
     "text": [
      "loss is  tensor(0.7970, grad_fn=<MseLossBackward>)\n",
      "Epoch 110/200\n",
      "----------\n"
     ]
    },
    {
     "name": "stderr",
     "output_type": "stream",
     "text": [
      "100%|██████████| 3556/3556 [04:52<00:00, 12.15it/s]\n",
      "100%|██████████| 397/397 [00:01<00:00, 379.17it/s]\n",
      "  0%|          | 2/3556 [00:00<04:48, 12.30it/s]"
     ]
    },
    {
     "name": "stdout",
     "output_type": "stream",
     "text": [
      "loss is  tensor(0.7966, grad_fn=<MseLossBackward>)\n",
      "Epoch 111/200\n",
      "----------\n"
     ]
    },
    {
     "name": "stderr",
     "output_type": "stream",
     "text": [
      "100%|██████████| 3556/3556 [04:50<00:00, 12.23it/s]\n",
      "100%|██████████| 397/397 [00:01<00:00, 384.55it/s]\n",
      "  0%|          | 2/3556 [00:00<04:42, 12.57it/s]"
     ]
    },
    {
     "name": "stdout",
     "output_type": "stream",
     "text": [
      "loss is  tensor(0.7963, grad_fn=<MseLossBackward>)\n",
      "Epoch 112/200\n",
      "----------\n"
     ]
    },
    {
     "name": "stderr",
     "output_type": "stream",
     "text": [
      "100%|██████████| 3556/3556 [04:52<00:00, 12.16it/s]\n",
      "100%|██████████| 397/397 [00:00<00:00, 422.80it/s]\n",
      "  0%|          | 2/3556 [00:00<04:48, 12.33it/s]"
     ]
    },
    {
     "name": "stdout",
     "output_type": "stream",
     "text": [
      "loss is  tensor(0.7959, grad_fn=<MseLossBackward>)\n",
      "Epoch 113/200\n",
      "----------\n"
     ]
    },
    {
     "name": "stderr",
     "output_type": "stream",
     "text": [
      "100%|██████████| 3556/3556 [04:50<00:00, 12.24it/s]\n",
      "100%|██████████| 397/397 [00:00<00:00, 419.05it/s]\n",
      "  0%|          | 2/3556 [00:00<05:02, 11.76it/s]"
     ]
    },
    {
     "name": "stdout",
     "output_type": "stream",
     "text": [
      "loss is  tensor(0.7955, grad_fn=<MseLossBackward>)\n",
      "Epoch 114/200\n",
      "----------\n"
     ]
    },
    {
     "name": "stderr",
     "output_type": "stream",
     "text": [
      "100%|██████████| 3556/3556 [04:51<00:00, 12.22it/s]\n",
      "100%|██████████| 397/397 [00:00<00:00, 419.15it/s]\n",
      "  0%|          | 2/3556 [00:00<04:53, 12.11it/s]"
     ]
    },
    {
     "name": "stdout",
     "output_type": "stream",
     "text": [
      "loss is  tensor(0.7952, grad_fn=<MseLossBackward>)\n",
      "Epoch 115/200\n",
      "----------\n"
     ]
    },
    {
     "name": "stderr",
     "output_type": "stream",
     "text": [
      "100%|██████████| 3556/3556 [04:51<00:00, 12.19it/s]\n",
      "100%|██████████| 397/397 [00:00<00:00, 408.92it/s]\n",
      "  0%|          | 2/3556 [00:00<04:48, 12.33it/s]"
     ]
    },
    {
     "name": "stdout",
     "output_type": "stream",
     "text": [
      "loss is  tensor(0.7948, grad_fn=<MseLossBackward>)\n",
      "Epoch 116/200\n",
      "----------\n"
     ]
    },
    {
     "name": "stderr",
     "output_type": "stream",
     "text": [
      "100%|██████████| 3556/3556 [04:50<00:00, 12.24it/s]\n",
      "100%|██████████| 397/397 [00:00<00:00, 414.01it/s]\n",
      "  0%|          | 2/3556 [00:00<04:48, 12.31it/s]"
     ]
    },
    {
     "name": "stdout",
     "output_type": "stream",
     "text": [
      "loss is  tensor(0.7944, grad_fn=<MseLossBackward>)\n",
      "Epoch 117/200\n",
      "----------\n"
     ]
    },
    {
     "name": "stderr",
     "output_type": "stream",
     "text": [
      "100%|██████████| 3556/3556 [04:51<00:00, 12.19it/s]\n",
      "100%|██████████| 397/397 [00:01<00:00, 364.33it/s]\n",
      "  0%|          | 2/3556 [00:00<05:16, 11.24it/s]"
     ]
    },
    {
     "name": "stdout",
     "output_type": "stream",
     "text": [
      "loss is  tensor(0.7941, grad_fn=<MseLossBackward>)\n",
      "Epoch 118/200\n",
      "----------\n"
     ]
    },
    {
     "name": "stderr",
     "output_type": "stream",
     "text": [
      "100%|██████████| 3556/3556 [04:49<00:00, 12.29it/s]\n",
      "100%|██████████| 397/397 [00:00<00:00, 408.60it/s]\n",
      "  0%|          | 2/3556 [00:00<04:59, 11.87it/s]"
     ]
    },
    {
     "name": "stdout",
     "output_type": "stream",
     "text": [
      "loss is  tensor(0.7937, grad_fn=<MseLossBackward>)\n",
      "Epoch 119/200\n",
      "----------\n"
     ]
    },
    {
     "name": "stderr",
     "output_type": "stream",
     "text": [
      "100%|██████████| 3556/3556 [04:51<00:00, 12.19it/s]\n",
      "100%|██████████| 397/397 [00:01<00:00, 358.30it/s]\n",
      "  0%|          | 2/3556 [00:00<04:54, 12.07it/s]"
     ]
    },
    {
     "name": "stdout",
     "output_type": "stream",
     "text": [
      "loss is  tensor(0.7933, grad_fn=<MseLossBackward>)\n",
      "Epoch 120/200\n",
      "----------\n"
     ]
    },
    {
     "name": "stderr",
     "output_type": "stream",
     "text": [
      "100%|██████████| 3556/3556 [04:49<00:00, 12.30it/s]\n",
      "100%|██████████| 397/397 [00:00<00:00, 409.96it/s]\n",
      "  0%|          | 2/3556 [00:00<04:48, 12.34it/s]"
     ]
    },
    {
     "name": "stdout",
     "output_type": "stream",
     "text": [
      "loss is  tensor(0.7929, grad_fn=<MseLossBackward>)\n",
      "Epoch 121/200\n",
      "----------\n"
     ]
    },
    {
     "name": "stderr",
     "output_type": "stream",
     "text": [
      "100%|██████████| 3556/3556 [04:52<00:00, 12.17it/s]\n",
      "100%|██████████| 397/397 [00:00<00:00, 399.65it/s]\n",
      "  0%|          | 2/3556 [00:00<04:35, 12.89it/s]"
     ]
    },
    {
     "name": "stdout",
     "output_type": "stream",
     "text": [
      "loss is  tensor(0.7926, grad_fn=<MseLossBackward>)\n",
      "Epoch 122/200\n",
      "----------\n"
     ]
    },
    {
     "name": "stderr",
     "output_type": "stream",
     "text": [
      "100%|██████████| 3556/3556 [04:49<00:00, 12.30it/s]\n",
      "100%|██████████| 397/397 [00:00<00:00, 417.85it/s]\n",
      "  0%|          | 2/3556 [00:00<04:53, 12.13it/s]"
     ]
    },
    {
     "name": "stdout",
     "output_type": "stream",
     "text": [
      "loss is  tensor(0.7922, grad_fn=<MseLossBackward>)\n",
      "Epoch 123/200\n",
      "----------\n"
     ]
    },
    {
     "name": "stderr",
     "output_type": "stream",
     "text": [
      "100%|██████████| 3556/3556 [04:52<00:00, 12.16it/s]\n",
      "100%|██████████| 397/397 [00:00<00:00, 430.35it/s]\n",
      "  0%|          | 2/3556 [00:00<04:43, 12.53it/s]"
     ]
    },
    {
     "name": "stdout",
     "output_type": "stream",
     "text": [
      "loss is  tensor(0.7918, grad_fn=<MseLossBackward>)\n",
      "Epoch 124/200\n",
      "----------\n"
     ]
    },
    {
     "name": "stderr",
     "output_type": "stream",
     "text": [
      "100%|██████████| 3556/3556 [04:49<00:00, 12.28it/s]\n",
      "100%|██████████| 397/397 [00:01<00:00, 361.25it/s]\n",
      "  0%|          | 2/3556 [00:00<04:55, 12.02it/s]"
     ]
    },
    {
     "name": "stdout",
     "output_type": "stream",
     "text": [
      "loss is  tensor(0.7914, grad_fn=<MseLossBackward>)\n",
      "Epoch 125/200\n",
      "----------\n"
     ]
    },
    {
     "name": "stderr",
     "output_type": "stream",
     "text": [
      "100%|██████████| 3556/3556 [04:52<00:00, 12.15it/s]\n",
      "100%|██████████| 397/397 [00:00<00:00, 434.31it/s]\n",
      "  0%|          | 2/3556 [00:00<04:56, 11.98it/s]"
     ]
    },
    {
     "name": "stdout",
     "output_type": "stream",
     "text": [
      "loss is  tensor(0.7911, grad_fn=<MseLossBackward>)\n",
      "Epoch 126/200\n",
      "----------\n"
     ]
    },
    {
     "name": "stderr",
     "output_type": "stream",
     "text": [
      "100%|██████████| 3556/3556 [04:49<00:00, 12.27it/s]\n",
      "100%|██████████| 397/397 [00:00<00:00, 438.07it/s]\n",
      "  0%|          | 2/3556 [00:00<04:48, 12.31it/s]"
     ]
    },
    {
     "name": "stdout",
     "output_type": "stream",
     "text": [
      "loss is  tensor(0.7907, grad_fn=<MseLossBackward>)\n",
      "Epoch 127/200\n",
      "----------\n"
     ]
    },
    {
     "name": "stderr",
     "output_type": "stream",
     "text": [
      "100%|██████████| 3556/3556 [04:52<00:00, 12.18it/s]\n",
      "100%|██████████| 397/397 [00:00<00:00, 436.95it/s]\n",
      "  0%|          | 2/3556 [00:00<04:53, 12.11it/s]"
     ]
    },
    {
     "name": "stdout",
     "output_type": "stream",
     "text": [
      "loss is  tensor(0.7903, grad_fn=<MseLossBackward>)\n",
      "Epoch 128/200\n",
      "----------\n"
     ]
    },
    {
     "name": "stderr",
     "output_type": "stream",
     "text": [
      "100%|██████████| 3556/3556 [04:50<00:00, 12.24it/s]\n",
      "100%|██████████| 397/397 [00:00<00:00, 431.97it/s]\n",
      "  0%|          | 2/3556 [00:00<04:37, 12.82it/s]"
     ]
    },
    {
     "name": "stdout",
     "output_type": "stream",
     "text": [
      "loss is  tensor(0.7899, grad_fn=<MseLossBackward>)\n",
      "Epoch 129/200\n",
      "----------\n"
     ]
    },
    {
     "name": "stderr",
     "output_type": "stream",
     "text": [
      "100%|██████████| 3556/3556 [04:52<00:00, 12.15it/s]\n",
      "100%|██████████| 397/397 [00:01<00:00, 395.40it/s]\n",
      "  0%|          | 2/3556 [00:00<05:09, 11.48it/s]"
     ]
    },
    {
     "name": "stdout",
     "output_type": "stream",
     "text": [
      "loss is  tensor(0.7895, grad_fn=<MseLossBackward>)\n",
      "Epoch 130/200\n",
      "----------\n"
     ]
    },
    {
     "name": "stderr",
     "output_type": "stream",
     "text": [
      "100%|██████████| 3556/3556 [04:50<00:00, 12.24it/s]\n",
      "100%|██████████| 397/397 [00:01<00:00, 394.53it/s]\n",
      "  0%|          | 2/3556 [00:00<05:00, 11.81it/s]"
     ]
    },
    {
     "name": "stdout",
     "output_type": "stream",
     "text": [
      "loss is  tensor(0.7892, grad_fn=<MseLossBackward>)\n",
      "Epoch 131/200\n",
      "----------\n"
     ]
    },
    {
     "name": "stderr",
     "output_type": "stream",
     "text": [
      "100%|██████████| 3556/3556 [04:51<00:00, 12.19it/s]\n",
      "100%|██████████| 397/397 [00:00<00:00, 408.08it/s]\n",
      "  0%|          | 2/3556 [00:00<04:42, 12.56it/s]"
     ]
    },
    {
     "name": "stdout",
     "output_type": "stream",
     "text": [
      "loss is  tensor(0.7888, grad_fn=<MseLossBackward>)\n",
      "Epoch 132/200\n",
      "----------\n"
     ]
    },
    {
     "name": "stderr",
     "output_type": "stream",
     "text": [
      "100%|██████████| 3556/3556 [04:51<00:00, 12.21it/s]\n",
      "100%|██████████| 397/397 [00:00<00:00, 418.88it/s]\n",
      "  0%|          | 2/3556 [00:00<04:39, 12.72it/s]"
     ]
    },
    {
     "name": "stdout",
     "output_type": "stream",
     "text": [
      "loss is  tensor(0.7884, grad_fn=<MseLossBackward>)\n",
      "Epoch 133/200\n",
      "----------\n"
     ]
    },
    {
     "name": "stderr",
     "output_type": "stream",
     "text": [
      "100%|██████████| 3556/3556 [04:51<00:00, 12.21it/s]\n",
      "100%|██████████| 397/397 [00:00<00:00, 432.67it/s]\n",
      "  0%|          | 2/3556 [00:00<04:44, 12.49it/s]"
     ]
    },
    {
     "name": "stdout",
     "output_type": "stream",
     "text": [
      "loss is  tensor(0.7880, grad_fn=<MseLossBackward>)\n",
      "Epoch 134/200\n",
      "----------\n"
     ]
    },
    {
     "name": "stderr",
     "output_type": "stream",
     "text": [
      "100%|██████████| 3556/3556 [04:51<00:00, 12.21it/s]\n",
      "100%|██████████| 397/397 [00:00<00:00, 427.02it/s]\n",
      "  0%|          | 2/3556 [00:00<04:51, 12.21it/s]"
     ]
    },
    {
     "name": "stdout",
     "output_type": "stream",
     "text": [
      "loss is  tensor(0.7876, grad_fn=<MseLossBackward>)\n",
      "Epoch 135/200\n",
      "----------\n"
     ]
    },
    {
     "name": "stderr",
     "output_type": "stream",
     "text": [
      "100%|██████████| 3556/3556 [04:49<00:00, 12.28it/s]\n",
      "100%|██████████| 397/397 [00:00<00:00, 428.82it/s]\n",
      "  0%|          | 2/3556 [00:00<04:52, 12.14it/s]"
     ]
    },
    {
     "name": "stdout",
     "output_type": "stream",
     "text": [
      "loss is  tensor(0.7872, grad_fn=<MseLossBackward>)\n",
      "Epoch 136/200\n",
      "----------\n"
     ]
    },
    {
     "name": "stderr",
     "output_type": "stream",
     "text": [
      "100%|██████████| 3556/3556 [04:51<00:00, 12.21it/s]\n",
      "100%|██████████| 397/397 [00:00<00:00, 439.54it/s]\n",
      "  0%|          | 2/3556 [00:00<04:47, 12.38it/s]"
     ]
    },
    {
     "name": "stdout",
     "output_type": "stream",
     "text": [
      "loss is  tensor(0.7869, grad_fn=<MseLossBackward>)\n",
      "Epoch 137/200\n",
      "----------\n"
     ]
    },
    {
     "name": "stderr",
     "output_type": "stream",
     "text": [
      "100%|██████████| 3556/3556 [04:50<00:00, 12.25it/s]\n",
      "100%|██████████| 397/397 [00:00<00:00, 411.81it/s]\n",
      "  0%|          | 2/3556 [00:00<04:46, 12.39it/s]"
     ]
    },
    {
     "name": "stdout",
     "output_type": "stream",
     "text": [
      "loss is  tensor(0.7865, grad_fn=<MseLossBackward>)\n",
      "Epoch 138/200\n",
      "----------\n"
     ]
    },
    {
     "name": "stderr",
     "output_type": "stream",
     "text": [
      "100%|██████████| 3556/3556 [04:52<00:00, 12.16it/s]\n",
      "100%|██████████| 397/397 [00:00<00:00, 416.26it/s]\n",
      "  0%|          | 2/3556 [00:00<04:43, 12.54it/s]"
     ]
    },
    {
     "name": "stdout",
     "output_type": "stream",
     "text": [
      "loss is  tensor(0.7861, grad_fn=<MseLossBackward>)\n",
      "Epoch 139/200\n",
      "----------\n"
     ]
    },
    {
     "name": "stderr",
     "output_type": "stream",
     "text": [
      "100%|██████████| 3556/3556 [04:48<00:00, 12.32it/s]\n",
      "100%|██████████| 397/397 [00:00<00:00, 436.59it/s]\n",
      "  0%|          | 2/3556 [00:00<04:44, 12.49it/s]"
     ]
    },
    {
     "name": "stdout",
     "output_type": "stream",
     "text": [
      "loss is  tensor(0.7857, grad_fn=<MseLossBackward>)\n",
      "Epoch 140/200\n",
      "----------\n"
     ]
    },
    {
     "name": "stderr",
     "output_type": "stream",
     "text": [
      "100%|██████████| 3556/3556 [04:53<00:00, 12.12it/s]\n",
      "100%|██████████| 397/397 [00:00<00:00, 400.80it/s]\n",
      "  0%|          | 2/3556 [00:00<04:59, 11.85it/s]"
     ]
    },
    {
     "name": "stdout",
     "output_type": "stream",
     "text": [
      "loss is  tensor(0.7853, grad_fn=<MseLossBackward>)\n",
      "Epoch 141/200\n",
      "----------\n"
     ]
    },
    {
     "name": "stderr",
     "output_type": "stream",
     "text": [
      "100%|██████████| 3556/3556 [04:48<00:00, 12.32it/s]\n",
      "100%|██████████| 397/397 [00:00<00:00, 425.69it/s]\n",
      "  0%|          | 2/3556 [00:00<04:44, 12.48it/s]"
     ]
    },
    {
     "name": "stdout",
     "output_type": "stream",
     "text": [
      "loss is  tensor(0.7850, grad_fn=<MseLossBackward>)\n",
      "Epoch 142/200\n",
      "----------\n"
     ]
    },
    {
     "name": "stderr",
     "output_type": "stream",
     "text": [
      "100%|██████████| 3556/3556 [04:52<00:00, 12.16it/s]\n",
      "100%|██████████| 397/397 [00:01<00:00, 384.22it/s]\n",
      "  0%|          | 2/3556 [00:00<05:10, 11.43it/s]"
     ]
    },
    {
     "name": "stdout",
     "output_type": "stream",
     "text": [
      "loss is  tensor(0.7846, grad_fn=<MseLossBackward>)\n",
      "Epoch 143/200\n",
      "----------\n"
     ]
    },
    {
     "name": "stderr",
     "output_type": "stream",
     "text": [
      "100%|██████████| 3556/3556 [04:48<00:00, 12.31it/s]\n",
      "100%|██████████| 397/397 [00:00<00:00, 431.32it/s]\n",
      "  0%|          | 2/3556 [00:00<04:54, 12.06it/s]"
     ]
    },
    {
     "name": "stdout",
     "output_type": "stream",
     "text": [
      "loss is  tensor(0.7842, grad_fn=<MseLossBackward>)\n",
      "Epoch 144/200\n",
      "----------\n"
     ]
    },
    {
     "name": "stderr",
     "output_type": "stream",
     "text": [
      "100%|██████████| 3556/3556 [04:51<00:00, 12.18it/s]\n",
      "100%|██████████| 397/397 [00:00<00:00, 398.36it/s]\n",
      "  0%|          | 2/3556 [00:00<05:23, 10.97it/s]"
     ]
    },
    {
     "name": "stdout",
     "output_type": "stream",
     "text": [
      "loss is  tensor(0.7838, grad_fn=<MseLossBackward>)\n",
      "Epoch 145/200\n",
      "----------\n"
     ]
    },
    {
     "name": "stderr",
     "output_type": "stream",
     "text": [
      "100%|██████████| 3556/3556 [04:49<00:00, 12.29it/s]\n",
      "100%|██████████| 397/397 [00:00<00:00, 413.67it/s]\n",
      "  0%|          | 2/3556 [00:00<04:51, 12.19it/s]"
     ]
    },
    {
     "name": "stdout",
     "output_type": "stream",
     "text": [
      "loss is  tensor(0.7834, grad_fn=<MseLossBackward>)\n",
      "Epoch 146/200\n",
      "----------\n"
     ]
    },
    {
     "name": "stderr",
     "output_type": "stream",
     "text": [
      "100%|██████████| 3556/3556 [04:51<00:00, 12.20it/s]\n",
      "100%|██████████| 397/397 [00:01<00:00, 390.04it/s]\n",
      "  0%|          | 0/3556 [00:00<?, ?it/s]"
     ]
    },
    {
     "name": "stdout",
     "output_type": "stream",
     "text": [
      "loss is  tensor(0.7831, grad_fn=<MseLossBackward>)\n",
      "Epoch 147/200\n",
      "----------\n"
     ]
    },
    {
     "name": "stderr",
     "output_type": "stream",
     "text": [
      "100%|██████████| 3556/3556 [04:50<00:00, 12.23it/s]\n",
      "100%|██████████| 397/397 [00:00<00:00, 397.49it/s]\n",
      "  0%|          | 2/3556 [00:00<05:06, 11.61it/s]"
     ]
    },
    {
     "name": "stdout",
     "output_type": "stream",
     "text": [
      "loss is  tensor(0.7827, grad_fn=<MseLossBackward>)\n",
      "Epoch 148/200\n",
      "----------\n"
     ]
    },
    {
     "name": "stderr",
     "output_type": "stream",
     "text": [
      "100%|██████████| 3556/3556 [04:50<00:00, 12.24it/s]\n",
      "100%|██████████| 397/397 [00:01<00:00, 390.05it/s]\n",
      "  0%|          | 2/3556 [00:00<05:07, 11.56it/s]"
     ]
    },
    {
     "name": "stdout",
     "output_type": "stream",
     "text": [
      "loss is  tensor(0.7823, grad_fn=<MseLossBackward>)\n",
      "Epoch 149/200\n",
      "----------\n"
     ]
    },
    {
     "name": "stderr",
     "output_type": "stream",
     "text": [
      "100%|██████████| 3556/3556 [04:50<00:00, 12.24it/s]\n",
      "100%|██████████| 397/397 [00:01<00:00, 388.47it/s]\n",
      "  0%|          | 2/3556 [00:00<05:18, 11.15it/s]"
     ]
    },
    {
     "name": "stdout",
     "output_type": "stream",
     "text": [
      "loss is  tensor(0.7819, grad_fn=<MseLossBackward>)\n",
      "Epoch 150/200\n",
      "----------\n"
     ]
    },
    {
     "name": "stderr",
     "output_type": "stream",
     "text": [
      "100%|██████████| 3556/3556 [04:50<00:00, 12.26it/s]\n",
      "100%|██████████| 397/397 [00:00<00:00, 420.49it/s]\n",
      "  0%|          | 2/3556 [00:00<05:00, 11.82it/s]"
     ]
    },
    {
     "name": "stdout",
     "output_type": "stream",
     "text": [
      "loss is  tensor(0.7816, grad_fn=<MseLossBackward>)\n",
      "Epoch 151/200\n",
      "----------\n"
     ]
    },
    {
     "name": "stderr",
     "output_type": "stream",
     "text": [
      "100%|██████████| 3556/3556 [04:51<00:00, 12.22it/s]\n",
      "100%|██████████| 397/397 [00:00<00:00, 407.32it/s]\n",
      "  0%|          | 2/3556 [00:00<05:03, 11.71it/s]"
     ]
    },
    {
     "name": "stdout",
     "output_type": "stream",
     "text": [
      "loss is  tensor(0.7812, grad_fn=<MseLossBackward>)\n",
      "Epoch 152/200\n",
      "----------\n"
     ]
    },
    {
     "name": "stderr",
     "output_type": "stream",
     "text": [
      "100%|██████████| 3556/3556 [04:49<00:00, 12.27it/s]\n",
      "100%|██████████| 397/397 [00:00<00:00, 410.86it/s]\n",
      "  0%|          | 2/3556 [00:00<04:45, 12.45it/s]"
     ]
    },
    {
     "name": "stdout",
     "output_type": "stream",
     "text": [
      "loss is  tensor(0.7808, grad_fn=<MseLossBackward>)\n",
      "Epoch 153/200\n",
      "----------\n"
     ]
    },
    {
     "name": "stderr",
     "output_type": "stream",
     "text": [
      "100%|██████████| 3556/3556 [04:51<00:00, 12.21it/s]\n",
      "100%|██████████| 397/397 [00:00<00:00, 406.52it/s]\n",
      "  0%|          | 2/3556 [00:00<05:08, 11.51it/s]"
     ]
    },
    {
     "name": "stdout",
     "output_type": "stream",
     "text": [
      "loss is  tensor(0.7804, grad_fn=<MseLossBackward>)\n",
      "Epoch 154/200\n",
      "----------\n"
     ]
    },
    {
     "name": "stderr",
     "output_type": "stream",
     "text": [
      "100%|██████████| 3556/3556 [04:48<00:00, 12.31it/s]\n",
      "100%|██████████| 397/397 [00:00<00:00, 409.92it/s]\n",
      "  0%|          | 2/3556 [00:00<04:45, 12.43it/s]"
     ]
    },
    {
     "name": "stdout",
     "output_type": "stream",
     "text": [
      "loss is  tensor(0.7800, grad_fn=<MseLossBackward>)\n",
      "Epoch 155/200\n",
      "----------\n"
     ]
    },
    {
     "name": "stderr",
     "output_type": "stream",
     "text": [
      "100%|██████████| 3556/3556 [04:51<00:00, 12.19it/s]\n",
      "100%|██████████| 397/397 [00:00<00:00, 410.26it/s]\n",
      "  0%|          | 2/3556 [00:00<04:54, 12.05it/s]"
     ]
    },
    {
     "name": "stdout",
     "output_type": "stream",
     "text": [
      "loss is  tensor(0.7797, grad_fn=<MseLossBackward>)\n",
      "Epoch 156/200\n",
      "----------\n"
     ]
    },
    {
     "name": "stderr",
     "output_type": "stream",
     "text": [
      "100%|██████████| 3556/3556 [04:48<00:00, 12.32it/s]\n",
      "100%|██████████| 397/397 [00:00<00:00, 426.33it/s]\n",
      "  0%|          | 2/3556 [00:00<04:54, 12.06it/s]"
     ]
    },
    {
     "name": "stdout",
     "output_type": "stream",
     "text": [
      "loss is  tensor(0.7793, grad_fn=<MseLossBackward>)\n",
      "Epoch 157/200\n",
      "----------\n"
     ]
    },
    {
     "name": "stderr",
     "output_type": "stream",
     "text": [
      "100%|██████████| 3556/3556 [04:52<00:00, 12.15it/s]\n",
      "100%|██████████| 397/397 [00:00<00:00, 430.55it/s]\n",
      "  0%|          | 2/3556 [00:00<05:06, 11.61it/s]"
     ]
    },
    {
     "name": "stdout",
     "output_type": "stream",
     "text": [
      "loss is  tensor(0.7789, grad_fn=<MseLossBackward>)\n",
      "Epoch 158/200\n",
      "----------\n"
     ]
    },
    {
     "name": "stderr",
     "output_type": "stream",
     "text": [
      " 50%|████▉     | 1774/3556 [02:16<02:16, 13.01it/s]\n"
     ]
    },
    {
     "ename": "KeyboardInterrupt",
     "evalue": "",
     "output_type": "error",
     "traceback": [
      "\u001b[0;31m---------------------------------------------------------------------------\u001b[0m",
      "\u001b[0;31mKeyboardInterrupt\u001b[0m                         Traceback (most recent call last)",
      "\u001b[0;32m<ipython-input-174-a791abf817c8>\u001b[0m in \u001b[0;36m<module>\u001b[0;34m\u001b[0m\n\u001b[1;32m      8\u001b[0m         \u001b[0moptimizer\u001b[0m\u001b[0;34m.\u001b[0m\u001b[0mzero_grad\u001b[0m\u001b[0;34m(\u001b[0m\u001b[0;34m)\u001b[0m\u001b[0;34m\u001b[0m\u001b[0;34m\u001b[0m\u001b[0m\n\u001b[1;32m      9\u001b[0m         \u001b[0mloss\u001b[0m \u001b[0;34m=\u001b[0m \u001b[0mcost\u001b[0m\u001b[0;34m(\u001b[0m\u001b[0moutput\u001b[0m\u001b[0;34m,\u001b[0m \u001b[0mmovie\u001b[0m\u001b[0;34m)\u001b[0m\u001b[0;34m\u001b[0m\u001b[0;34m\u001b[0m\u001b[0m\n\u001b[0;32m---> 10\u001b[0;31m         \u001b[0mloss\u001b[0m\u001b[0;34m.\u001b[0m\u001b[0mbackward\u001b[0m\u001b[0;34m(\u001b[0m\u001b[0;34m)\u001b[0m\u001b[0;34m\u001b[0m\u001b[0;34m\u001b[0m\u001b[0m\n\u001b[0m\u001b[1;32m     11\u001b[0m         \u001b[0mrunning_loss\u001b[0m\u001b[0;34m+=\u001b[0m\u001b[0mloss\u001b[0m\u001b[0;34m.\u001b[0m\u001b[0mdata\u001b[0m\u001b[0;34m\u001b[0m\u001b[0;34m\u001b[0m\u001b[0m\n\u001b[1;32m     12\u001b[0m         \u001b[0moptimizer\u001b[0m\u001b[0;34m.\u001b[0m\u001b[0mstep\u001b[0m\u001b[0;34m(\u001b[0m\u001b[0;34m)\u001b[0m\u001b[0;34m\u001b[0m\u001b[0;34m\u001b[0m\u001b[0m\n",
      "\u001b[0;32m~/miniconda3/lib/python3.8/site-packages/torch/tensor.py\u001b[0m in \u001b[0;36mbackward\u001b[0;34m(self, gradient, retain_graph, create_graph)\u001b[0m\n\u001b[1;32m    219\u001b[0m                 \u001b[0mretain_graph\u001b[0m\u001b[0;34m=\u001b[0m\u001b[0mretain_graph\u001b[0m\u001b[0;34m,\u001b[0m\u001b[0;34m\u001b[0m\u001b[0;34m\u001b[0m\u001b[0m\n\u001b[1;32m    220\u001b[0m                 create_graph=create_graph)\n\u001b[0;32m--> 221\u001b[0;31m         \u001b[0mtorch\u001b[0m\u001b[0;34m.\u001b[0m\u001b[0mautograd\u001b[0m\u001b[0;34m.\u001b[0m\u001b[0mbackward\u001b[0m\u001b[0;34m(\u001b[0m\u001b[0mself\u001b[0m\u001b[0;34m,\u001b[0m \u001b[0mgradient\u001b[0m\u001b[0;34m,\u001b[0m \u001b[0mretain_graph\u001b[0m\u001b[0;34m,\u001b[0m \u001b[0mcreate_graph\u001b[0m\u001b[0;34m)\u001b[0m\u001b[0;34m\u001b[0m\u001b[0;34m\u001b[0m\u001b[0m\n\u001b[0m\u001b[1;32m    222\u001b[0m \u001b[0;34m\u001b[0m\u001b[0m\n\u001b[1;32m    223\u001b[0m     \u001b[0;32mdef\u001b[0m \u001b[0mregister_hook\u001b[0m\u001b[0;34m(\u001b[0m\u001b[0mself\u001b[0m\u001b[0;34m,\u001b[0m \u001b[0mhook\u001b[0m\u001b[0;34m)\u001b[0m\u001b[0;34m:\u001b[0m\u001b[0;34m\u001b[0m\u001b[0;34m\u001b[0m\u001b[0m\n",
      "\u001b[0;32m~/miniconda3/lib/python3.8/site-packages/torch/autograd/__init__.py\u001b[0m in \u001b[0;36mbackward\u001b[0;34m(tensors, grad_tensors, retain_graph, create_graph, grad_variables)\u001b[0m\n\u001b[1;32m    128\u001b[0m         \u001b[0mretain_graph\u001b[0m \u001b[0;34m=\u001b[0m \u001b[0mcreate_graph\u001b[0m\u001b[0;34m\u001b[0m\u001b[0;34m\u001b[0m\u001b[0m\n\u001b[1;32m    129\u001b[0m \u001b[0;34m\u001b[0m\u001b[0m\n\u001b[0;32m--> 130\u001b[0;31m     Variable._execution_engine.run_backward(\n\u001b[0m\u001b[1;32m    131\u001b[0m         \u001b[0mtensors\u001b[0m\u001b[0;34m,\u001b[0m \u001b[0mgrad_tensors_\u001b[0m\u001b[0;34m,\u001b[0m \u001b[0mretain_graph\u001b[0m\u001b[0;34m,\u001b[0m \u001b[0mcreate_graph\u001b[0m\u001b[0;34m,\u001b[0m\u001b[0;34m\u001b[0m\u001b[0;34m\u001b[0m\u001b[0m\n\u001b[1;32m    132\u001b[0m         allow_unreachable=True)  # allow_unreachable flag\n",
      "\u001b[0;31mKeyboardInterrupt\u001b[0m: "
     ]
    }
   ],
   "source": [
    "for epoch in range(n_epochs):\n",
    "    running_loss = 0.0\n",
    "    running_correct = 0\n",
    "    print(\"Epoch {}/{}\".format(epoch, n_epochs))\n",
    "    print(\"-\"*10)\n",
    "    for movie in tqdm(train_data):\n",
    "        output=model(movie)\n",
    "        optimizer.zero_grad()\n",
    "        loss = cost(output, movie)\n",
    "        loss.backward()\n",
    "        running_loss+=loss.data\n",
    "        optimizer.step()\n",
    "\n",
    "    for movie in tqdm(test_data):\n",
    "        output=model(movie)\n",
    "        optimizer.zero_grad()\n",
    "        loss = cost(output, movie)\n",
    "    print('loss is ',loss)\n"
   ]
  },
  {
   "cell_type": "markdown",
   "metadata": {},
   "source": [
    "## 训练完成，topN排序"
   ]
  },
  {
   "cell_type": "code",
   "execution_count": 222,
   "metadata": {},
   "outputs": [
    {
     "data": {
      "text/plain": [
       "array([[-0.10920732,  0.16217954, -0.13245669, ..., -0.03711066,\n",
       "         0.17799789,  0.62468886],\n",
       "       [-0.0279699 , -0.10099082, -0.05305667, ...,  0.01707601,\n",
       "         0.05812037, -0.10651678],\n",
       "       [ 0.00634375,  0.00187417,  0.01216695, ...,  0.00982976,\n",
       "         0.02290542,  0.05429372],\n",
       "       ...,\n",
       "       [-0.10183141,  0.01941234,  0.00999586, ..., -0.06937908,\n",
       "        -0.03200007,  0.13236664],\n",
       "       [ 0.00910299,  0.02591625, -0.08693105, ..., -0.00739625,\n",
       "        -0.06808564,  0.08092597],\n",
       "       [ 0.06387672,  0.43498132,  0.38133895, ..., -0.09504116,\n",
       "         0.09913957,  0.7396383 ]], dtype=float32)"
      ]
     },
     "execution_count": 222,
     "metadata": {},
     "output_type": "execute_result"
    }
   ],
   "source": [
    "prediction=model(test_data)\n",
    "prediction=prediction.detach().numpy()\n",
    "prediction"
   ]
  },
  {
   "cell_type": "code",
   "execution_count": 225,
   "metadata": {},
   "outputs": [
    {
     "data": {
      "text/plain": [
       "array([[0., 0., 0., ..., 0., 0., 0.],\n",
       "       [0., 0., 0., ..., 0., 0., 0.],\n",
       "       [0., 0., 0., ..., 0., 0., 0.],\n",
       "       ...,\n",
       "       [0., 0., 0., ..., 0., 0., 0.],\n",
       "       [0., 0., 0., ..., 0., 0., 0.],\n",
       "       [0., 0., 0., ..., 0., 0., 0.]], dtype=float32)"
      ]
     },
     "execution_count": 225,
     "metadata": {},
     "output_type": "execute_result"
    }
   ],
   "source": [
    "test=test_data.detach().numpy()\n",
    "test"
   ]
  },
  {
   "cell_type": "markdown",
   "metadata": {},
   "source": [
    "## 将测试集中的电影推荐给20位用户，计算点击率"
   ]
  },
  {
   "cell_type": "code",
   "execution_count": 231,
   "metadata": {},
   "outputs": [
    {
     "name": "stdout",
     "output_type": "stream",
     "text": [
      "top20 CTR =  52.34999999999998 %\n"
     ]
    }
   ],
   "source": [
    "predNum=200\n",
    "from random import randint\n",
    "ctr=0\n",
    "for i in range(predNum):\n",
    "    right=0\n",
    "    idx=randint(1,len(test)-1)\n",
    "    pred=np.argsort(prediction[idx])[-20:]\n",
    "    for j in pred:\n",
    "        if test[idx][j]!=0:\n",
    "            right+=1\n",
    "    ctr+=right/20\n",
    "ctr=100*ctr/predNum\n",
    "print('top20 CTR = ',ctr,'%')"
   ]
  },
  {
   "cell_type": "markdown",
   "metadata": {},
   "source": [
    "## 总结\n",
    "\n",
    "### 网络结构太简单，只有一层隐藏层，比传统推荐算法有更好的表达能力，但对复杂情况拟合能力不足，和Word2Vec模型几乎一样"
   ]
  },
  {
   "cell_type": "code",
   "execution_count": null,
   "metadata": {},
   "outputs": [],
   "source": []
  }
 ],
 "metadata": {
  "kernelspec": {
   "display_name": "Python 3",
   "language": "python",
   "name": "python3"
  },
  "language_info": {
   "codemirror_mode": {
    "name": "ipython",
    "version": 3
   },
   "file_extension": ".py",
   "mimetype": "text/x-python",
   "name": "python",
   "nbconvert_exporter": "python",
   "pygments_lexer": "ipython3",
   "version": "3.8.3"
  }
 },
 "nbformat": 4,
 "nbformat_minor": 4
}
