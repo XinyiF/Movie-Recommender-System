{
 "cells": [
  {
   "cell_type": "code",
   "execution_count": null,
   "metadata": {},
   "outputs": [],
   "source": [
    "# 导入包\n",
    "import pandas as pd\n",
    "import numpy as np\n",
    "import random"
   ]
  },
  {
   "cell_type": "markdown",
   "metadata": {},
   "source": [
    "生成userID:movieID字典\n",
    "和 movieID:userID字典"
   ]
  },
  {
   "cell_type": "code",
   "execution_count": null,
   "metadata": {},
   "outputs": [],
   "source": [
    "# {user:[items]} dict\n",
    "def userItem(filepath):\n",
    "    dic={}\n",
    "    file=pd.read_csv(filepath)\n",
    "    user_item=pd.DataFrame(file,columns=['userId','movieId'])\n",
    "    data=list(user_item.groupby('userId'))\n",
    "    for usr in data:\n",
    "        userid=usr[0]\n",
    "        dic[userid]=list(usr[1]['movieId'])\n",
    "    return dic\n",
    "\n",
    "def itemUser(filepath):\n",
    "    dic={}\n",
    "    file=pd.read_csv(filepath)\n",
    "    user_item=pd.DataFrame(file,columns=['userId','movieId'])\n",
    "    data=list(user_item.groupby('movieId'))\n",
    "    for item in data:\n",
    "        movieId=item[0]\n",
    "        dic[movieId]=list(item[1]['userId'])\n",
    "    return dic"
   ]
  },
  {
   "cell_type": "markdown",
   "metadata": {},
   "source": [
    "对每个用户进行采样\n",
    "负样本个数为正样本个数的ratio倍"
   ]
  },
  {
   "cell_type": "code",
   "execution_count": null,
   "metadata": {},
   "outputs": [],
   "source": [
    "# 流行度定义为看过该电影的人数和总人数的比例\n",
    "def popularity(userItemDict,itemUserDict):\n",
    "    dic,userNum={},len(userItemDict)\n",
    "    for item in itemUserDict:\n",
    "        dic[item]=len(itemUserDict[item])/userNum\n",
    "    return dic\n",
    "\n",
    "def itemPool(filepath):\n",
    "    file=pd.read_csv(filepath)\n",
    "    pool=list(file['movieId'])\n",
    "    return pool\n",
    "\n",
    "# 对每个用户进行正负样本采样\n",
    "def nSample(item_pool,userItemDict,ratio):\n",
    "    dic={}\n",
    "    # 记录正样本\n",
    "    for user in userItemDict:\n",
    "        dic[user]={}\n",
    "        for item in userItemDict[user]:\n",
    "            dic[user][item]=1\n",
    "    # 采集和正样本平衡的负样本\n",
    "    # 负样本被采集到的几率和流行率成正比\n",
    "    for user in dic:\n",
    "        # 正样本个数\n",
    "        numPositive=len(dic[user])\n",
    "        numNegative=0\n",
    "        while numNegative<numPositive*ratio:\n",
    "            item=random.choice(item_pool)\n",
    "            if item not in dic[user]:\n",
    "                dic[user][item]=0\n",
    "                numNegative+=1\n",
    "    return dic"
   ]
  },
  {
   "cell_type": "markdown",
   "metadata": {},
   "source": [
    "训练"
   ]
  },
  {
   "cell_type": "code",
   "execution_count": null,
   "metadata": {},
   "outputs": [],
   "source": [
    "# 初始化每个用户的P，每个item的Q\n",
    "def initPQ(userItemDict,itemUserDict,K):\n",
    "    print('开始初始化...')\n",
    "    P,Q={},{}\n",
    "    for user in userItemDict:\n",
    "        P[user]=np.random.random(K)\n",
    "    for item in itemUserDict:\n",
    "        Q[item]=np.random.random(K)\n",
    "    return P,Q\n",
    "\n",
    "def lfm(P,Q,sample,K,maxIter=20,alpha=0.02,lamb=0.01):\n",
    "    for it in range(maxIter):\n",
    "        for user in sample:\n",
    "            for item in sample[user]:\n",
    "                eui = sample[user][item] - sum(P[user][i] * Q[item][i] for i in range(K))\n",
    "                for f in range(K):\n",
    "                    P[user][f] += alpha * (Q[item][f] * eui - lamb* P[user][f])\n",
    "                    Q[item][f] += alpha * (P[user][f] * eui - lamb * Q[item][f])\n",
    "        alpha*=0.9\n",
    "        print('第',it,'次迭代')\n",
    "    return P,Q\n",
    "\n"
   ]
  },
  {
   "cell_type": "markdown",
   "metadata": {},
   "source": [
    "将训练好的P，Q放入pickle文件"
   ]
  },
  {
   "cell_type": "code",
   "execution_count": null,
   "metadata": {},
   "outputs": [],
   "source": [
    "# 初始化每个用户的P，每个item的Q\n",
    "def initPQ(userItemDict,itemUserDict,K):\n",
    "    P,Q={},{}\n",
    "    for user in userItemDict:\n",
    "        P[user]=[random.random()/np.sqrt(K) for x in range(K)]\n",
    "    for item in itemUserDict:\n",
    "        Q[item]=[random.random()/np.sqrt(K) for x in range(K)]\n",
    "    return P,Q\n",
    "\n",
    "def lfm(P,Q,sample,K,maxIter=20,alpha=0.02,lamb=0.01):\n",
    "    for it in range(maxIter):\n",
    "        for user in sample:\n",
    "            for item in sample[user]:\n",
    "                eui = sample[user][item] - sum(P[user][i] * Q[item][i] for i in range(K))\n",
    "                for f in range(K):\n",
    "                    P[user][f] += alpha * (Q[item][f] * eui - lamb* P[user][f])\n",
    "                    Q[item][f] += alpha * (P[user][f] * eui - lamb * Q[item][f])\n",
    "        alpha*=0.9\n",
    "        print('第',it,'次迭代')\n",
    "    return P,Q"
   ]
  },
  {
   "cell_type": "code",
   "execution_count": null,
   "metadata": {},
   "outputs": [],
   "source": [
    "userItemDict=userItem('/Users/user/git_repo/Movie-Recommender-System/movieLen/ratings.csv')\n",
    "itemUserDict=itemUser('/Users/user/git_repo/Movie-Recommender-System/movieLen/ratings.csv')\n",
    "pop=popularity(userItemDict,itemUserDict)\n",
    "sortedPop=dict(sorted(pop.items(),key=lambda item:item[1]))\n",
    "item_pool=itemPool('/Users/user/git_repo/Movie-Recommender-System/movieLen/ratings.csv')\n",
    "sample=nSample(item_pool,userItemDict,2)\n",
    "P,Q=initPQ(userItemDict,itemUserDict,3)\n",
    "P,Q=lfm(P,Q,sample,3)\n",
    "with open('PQ.pickle','wb') as f:\n",
    "    pickle.dump(P,f)\n",
    "    pickle.dump(Q,f)"
   ]
  },
  {
   "cell_type": "code",
   "execution_count": null,
   "metadata": {},
   "outputs": [],
   "source": []
  },
  {
   "cell_type": "code",
   "execution_count": null,
   "metadata": {},
   "outputs": [],
   "source": []
  }
 ],
 "metadata": {
  "kernelspec": {
   "display_name": "Python 3",
   "language": "python",
   "name": "python3"
  },
  "language_info": {
   "codemirror_mode": {
    "name": "ipython",
    "version": 3
   },
   "file_extension": ".py",
   "mimetype": "text/x-python",
   "name": "python",
   "nbconvert_exporter": "python",
   "pygments_lexer": "ipython3",
   "version": "3.8.3"
  }
 },
 "nbformat": 4,
 "nbformat_minor": 4
}
