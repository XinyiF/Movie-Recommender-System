{
 "cells": [
  {
   "cell_type": "code",
   "execution_count": 1,
   "metadata": {},
   "outputs": [
    {
     "name": "stdout",
     "output_type": "stream",
     "text": [
      "CTR= 31.999999999999996 %\n"
     ]
    }
   ],
   "source": [
    "import pickle\n",
    "from loadData import *\n",
    "import random\n",
    "\n",
    "def predict(itemID,P,Q,userID,predNum):\n",
    "    res=[]\n",
    "    pred={}\n",
    "    for item in itemID:\n",
    "        pred[sum(P[userID]*Q[item])]=item\n",
    "    score=sorted(list(pred.keys()))[::-1]\n",
    "    for i in range(predNum):\n",
    "        res.append(pred[score[i]])\n",
    "    return res\n",
    "\n",
    "\n",
    "with open('PQ.pickle','rb') as f:\n",
    "    P=pickle.load(f)\n",
    "    Q=pickle.load(f)\n",
    "\n",
    "userItemDict=userItem('/Users/user/git_repo/Movie-Recommender-System/movieLen/ratings.csv')\n",
    "itemUserDict=itemUser('/Users/user/git_repo/Movie-Recommender-System/movieLen/ratings.csv')\n",
    "userID=list(userItemDict.keys())\n",
    "itemID=list(itemUserDict.keys())\n",
    "test_user= random.sample(userID, 50)\n",
    "ctr=[]\n",
    "for user in test_user:\n",
    "    actual=userItemDict[user]\n",
    "    pred = predict(itemID, P, Q, user, 20)\n",
    "    ctr.append(len(set(actual)&set(pred))/len(pred))\n",
    "print('CTR=',sum(ctr)/len(ctr)*100,'%')"
   ]
  },
  {
   "cell_type": "markdown",
   "metadata": {},
   "source": [
    "CTR还行，负样本的ratio对结果影响较大，但电脑跑不了更大的ratio了"
   ]
  }
 ],
 "metadata": {
  "kernelspec": {
   "display_name": "Python 3",
   "language": "python",
   "name": "python3"
  },
  "language_info": {
   "codemirror_mode": {
    "name": "ipython",
    "version": 3
   },
   "file_extension": ".py",
   "mimetype": "text/x-python",
   "name": "python",
   "nbconvert_exporter": "python",
   "pygments_lexer": "ipython3",
   "version": "3.8.3"
  }
 },
 "nbformat": 4,
 "nbformat_minor": 4
}
